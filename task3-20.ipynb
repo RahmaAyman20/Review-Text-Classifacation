{
 "cells": [
  {
   "cell_type": "markdown",
   "id": "5254b091",
   "metadata": {},
   "source": [
    "# Import"
   ]
  },
  {
   "cell_type": "code",
   "execution_count": 1,
   "id": "1395e2fa",
   "metadata": {},
   "outputs": [],
   "source": [
    "import pandas as pd\n",
    "import numpy as np\n",
    "from string import punctuation\n",
    "from nltk.tokenize import word_tokenize\n",
    "from nltk.corpus import stopwords\n",
    "from nltk.stem import PorterStemmer\n",
    "from nltk.stem import SnowballStemmer\n",
    "from nltk.stem import WordNetLemmatizer\n",
    "from sklearn.feature_extraction.text import CountVectorizer\n",
    "from sklearn.feature_extraction.text import TfidfVectorizer\n",
    "from sklearn.model_selection import train_test_split, GridSearchCV\n",
    "from sklearn.metrics import accuracy_score , confusion_matrix\n",
    "from sklearn.svm import SVC\n",
    "import matplotlib.pyplot as plt\n",
    "import seaborn as sn\n",
    "from sklearn.naive_bayes import GaussianNB , MultinomialNB , ComplementNB , BernoulliNB\n",
    "from sklearn.neighbors import KNeighborsClassifier\n",
    "from sklearn.linear_model import LogisticRegression\n",
    "from sklearn.tree import DecisionTreeClassifier\n",
    "from sklearn.ensemble import RandomForestClassifier\n",
    "from xgboost import XGBClassifier"
   ]
  },
  {
   "cell_type": "code",
   "execution_count": 2,
   "id": "457afdb7",
   "metadata": {},
   "outputs": [],
   "source": [
    "import warnings\n",
    "warnings.filterwarnings('ignore')"
   ]
  },
  {
   "cell_type": "markdown",
   "id": "143e5c3e",
   "metadata": {},
   "source": [
    "# Prepare Data"
   ]
  },
  {
   "cell_type": "code",
   "execution_count": 3,
   "id": "1e67bed0",
   "metadata": {},
   "outputs": [],
   "source": [
    "column_names = ['polarity', 'title', 'text']\n",
    "data=pd.read_csv(\"train.csv\")\n",
    "data.columns=column_names"
   ]
  },
  {
   "cell_type": "code",
   "execution_count": 4,
   "id": "17b6c92f",
   "metadata": {},
   "outputs": [],
   "source": [
    "data.drop(columns='title',inplace=True)"
   ]
  },
  {
   "cell_type": "code",
   "execution_count": 5,
   "id": "38a45683",
   "metadata": {},
   "outputs": [
    {
     "data": {
      "text/html": [
       "<div>\n",
       "<style scoped>\n",
       "    .dataframe tbody tr th:only-of-type {\n",
       "        vertical-align: middle;\n",
       "    }\n",
       "\n",
       "    .dataframe tbody tr th {\n",
       "        vertical-align: top;\n",
       "    }\n",
       "\n",
       "    .dataframe thead th {\n",
       "        text-align: right;\n",
       "    }\n",
       "</style>\n",
       "<table border=\"1\" class=\"dataframe\">\n",
       "  <thead>\n",
       "    <tr style=\"text-align: right;\">\n",
       "      <th></th>\n",
       "      <th>polarity</th>\n",
       "      <th>text</th>\n",
       "    </tr>\n",
       "  </thead>\n",
       "  <tbody>\n",
       "    <tr>\n",
       "      <th>0</th>\n",
       "      <td>2</td>\n",
       "      <td>I'm reading a lot of reviews saying that this ...</td>\n",
       "    </tr>\n",
       "    <tr>\n",
       "      <th>1</th>\n",
       "      <td>2</td>\n",
       "      <td>This soundtrack is my favorite music of all ti...</td>\n",
       "    </tr>\n",
       "    <tr>\n",
       "      <th>2</th>\n",
       "      <td>2</td>\n",
       "      <td>I truly like this soundtrack and I enjoy video...</td>\n",
       "    </tr>\n",
       "    <tr>\n",
       "      <th>3</th>\n",
       "      <td>2</td>\n",
       "      <td>If you've played the game, you know how divine...</td>\n",
       "    </tr>\n",
       "    <tr>\n",
       "      <th>4</th>\n",
       "      <td>2</td>\n",
       "      <td>I am quite sure any of you actually taking the...</td>\n",
       "    </tr>\n",
       "  </tbody>\n",
       "</table>\n",
       "</div>"
      ],
      "text/plain": [
       "   polarity                                               text\n",
       "0         2  I'm reading a lot of reviews saying that this ...\n",
       "1         2  This soundtrack is my favorite music of all ti...\n",
       "2         2  I truly like this soundtrack and I enjoy video...\n",
       "3         2  If you've played the game, you know how divine...\n",
       "4         2  I am quite sure any of you actually taking the..."
      ]
     },
     "execution_count": 5,
     "metadata": {},
     "output_type": "execute_result"
    }
   ],
   "source": [
    "data.head()"
   ]
  },
  {
   "cell_type": "code",
   "execution_count": 6,
   "id": "19fb84ed",
   "metadata": {},
   "outputs": [],
   "source": [
    "data['polarity'].replace({1: 0}, inplace=True)"
   ]
  },
  {
   "cell_type": "code",
   "execution_count": 7,
   "id": "41bccc30",
   "metadata": {},
   "outputs": [],
   "source": [
    "data['polarity'].replace({2: 1}, inplace=True)"
   ]
  },
  {
   "cell_type": "code",
   "execution_count": 8,
   "id": "83af68c6",
   "metadata": {},
   "outputs": [
    {
     "name": "stdout",
     "output_type": "stream",
     "text": [
      "number of record is  3599999\n"
     ]
    }
   ],
   "source": [
    "Number_Of_record=data.shape[0]\n",
    "print(\"number of record is \",Number_Of_record)"
   ]
  },
  {
   "cell_type": "code",
   "execution_count": 9,
   "id": "c51946c2",
   "metadata": {},
   "outputs": [
    {
     "name": "stdout",
     "output_type": "stream",
     "text": [
      "postive number is  1799999\n",
      "negtive number is  1800000\n"
     ]
    }
   ],
   "source": [
    "postive_number=data[data['polarity']==1].shape[0]\n",
    "negtive_number=data[data['polarity']==0].shape[0]\n",
    "    \n",
    "print(\"postive number is \",postive_number)\n",
    "print(\"negtive number is \",negtive_number)"
   ]
  },
  {
   "cell_type": "code",
   "execution_count": 10,
   "id": "a04f218b",
   "metadata": {},
   "outputs": [],
   "source": [
    "data_postive=data[data['polarity']==1]\n",
    "data_negtive=data[data['polarity']==0]\n",
    "subset_positive_data = data_postive.sample(n=10000, random_state=5)\n",
    "subset_negtive_data = data_negtive.sample(n=10000, random_state=5)"
   ]
  },
  {
   "cell_type": "code",
   "execution_count": 11,
   "id": "42e7b154",
   "metadata": {},
   "outputs": [
    {
     "data": {
      "text/plain": [
       "array([1], dtype=int64)"
      ]
     },
     "execution_count": 11,
     "metadata": {},
     "output_type": "execute_result"
    }
   ],
   "source": [
    "subset_positive_data['polarity'].unique()"
   ]
  },
  {
   "cell_type": "code",
   "execution_count": 12,
   "id": "aa0dbf83",
   "metadata": {},
   "outputs": [
    {
     "data": {
      "text/plain": [
       "array([0], dtype=int64)"
      ]
     },
     "execution_count": 12,
     "metadata": {},
     "output_type": "execute_result"
    }
   ],
   "source": [
    "subset_negtive_data['polarity'].unique()"
   ]
  },
  {
   "cell_type": "code",
   "execution_count": 13,
   "id": "2f5f03f2",
   "metadata": {},
   "outputs": [],
   "source": [
    "Data=pd.concat([subset_positive_data, subset_negtive_data], ignore_index=True)"
   ]
  },
  {
   "cell_type": "code",
   "execution_count": null,
   "id": "199311f3",
   "metadata": {},
   "outputs": [],
   "source": [
    "Data.to_csv(\"sentiment analysis3.csv\", index=False)"
   ]
  },
  {
   "cell_type": "code",
   "execution_count": 14,
   "id": "5e11834a",
   "metadata": {},
   "outputs": [
    {
     "data": {
      "text/plain": [
       "(20000, 2)"
      ]
     },
     "execution_count": 14,
     "metadata": {},
     "output_type": "execute_result"
    }
   ],
   "source": [
    "Data = pd.read_csv('sentiment analysis3.csv')\n",
    "Data.shape"
   ]
  },
  {
   "cell_type": "code",
   "execution_count": 15,
   "id": "55066a20",
   "metadata": {},
   "outputs": [
    {
     "data": {
      "text/html": [
       "<div>\n",
       "<style scoped>\n",
       "    .dataframe tbody tr th:only-of-type {\n",
       "        vertical-align: middle;\n",
       "    }\n",
       "\n",
       "    .dataframe tbody tr th {\n",
       "        vertical-align: top;\n",
       "    }\n",
       "\n",
       "    .dataframe thead th {\n",
       "        text-align: right;\n",
       "    }\n",
       "</style>\n",
       "<table border=\"1\" class=\"dataframe\">\n",
       "  <thead>\n",
       "    <tr style=\"text-align: right;\">\n",
       "      <th></th>\n",
       "      <th>polarity</th>\n",
       "      <th>text</th>\n",
       "    </tr>\n",
       "  </thead>\n",
       "  <tbody>\n",
       "    <tr>\n",
       "      <th>0</th>\n",
       "      <td>1</td>\n",
       "      <td>If your skin has a tendency to get burns or in...</td>\n",
       "    </tr>\n",
       "    <tr>\n",
       "      <th>1</th>\n",
       "      <td>1</td>\n",
       "      <td>I think this book was simply smashing. The cha...</td>\n",
       "    </tr>\n",
       "    <tr>\n",
       "      <th>2</th>\n",
       "      <td>1</td>\n",
       "      <td>While I was laid up for 7 weeks with a broken ...</td>\n",
       "    </tr>\n",
       "    <tr>\n",
       "      <th>3</th>\n",
       "      <td>1</td>\n",
       "      <td>I chose this rating because I liked the produc...</td>\n",
       "    </tr>\n",
       "    <tr>\n",
       "      <th>4</th>\n",
       "      <td>1</td>\n",
       "      <td>[SPOILER] While Gal Costa sings \"Se Todos Foss...</td>\n",
       "    </tr>\n",
       "  </tbody>\n",
       "</table>\n",
       "</div>"
      ],
      "text/plain": [
       "   polarity                                               text\n",
       "0         1  If your skin has a tendency to get burns or in...\n",
       "1         1  I think this book was simply smashing. The cha...\n",
       "2         1  While I was laid up for 7 weeks with a broken ...\n",
       "3         1  I chose this rating because I liked the produc...\n",
       "4         1  [SPOILER] While Gal Costa sings \"Se Todos Foss..."
      ]
     },
     "execution_count": 15,
     "metadata": {},
     "output_type": "execute_result"
    }
   ],
   "source": [
    "Data.head()"
   ]
  },
  {
   "cell_type": "code",
   "execution_count": 16,
   "id": "a706942b",
   "metadata": {},
   "outputs": [
    {
     "data": {
      "text/plain": [
       "polarity    0\n",
       "text        0\n",
       "dtype: int64"
      ]
     },
     "execution_count": 16,
     "metadata": {},
     "output_type": "execute_result"
    }
   ],
   "source": [
    "Data.isnull().sum()"
   ]
  },
  {
   "cell_type": "code",
   "execution_count": 17,
   "id": "1e79ad35",
   "metadata": {},
   "outputs": [
    {
     "data": {
      "text/plain": [
       "(20000, 2)"
      ]
     },
     "execution_count": 17,
     "metadata": {},
     "output_type": "execute_result"
    }
   ],
   "source": [
    "Data = Data.drop_duplicates(keep='first')\n",
    "Data.shape"
   ]
  },
  {
   "cell_type": "code",
   "execution_count": 18,
   "id": "41775784",
   "metadata": {},
   "outputs": [],
   "source": [
    "X_data=Data['text']\n",
    "y_data=Data['polarity']"
   ]
  },
  {
   "cell_type": "markdown",
   "id": "9013a118",
   "metadata": {},
   "source": [
    "# Preprocessing"
   ]
  },
  {
   "cell_type": "code",
   "execution_count": 19,
   "id": "9246cfef",
   "metadata": {},
   "outputs": [],
   "source": [
    "stopwords_english=['i',\n",
    " 'me',\n",
    " 'my',\n",
    " 'myself',\n",
    " 'we',\n",
    " 'our',\n",
    " 'ours',\n",
    " 'ourselves',\n",
    " 'you',\n",
    " \"you're\",\n",
    " \"you've\",\n",
    " \"you'll\",\n",
    " \"you'd\",\n",
    " 'your',\n",
    " 'yours',\n",
    " 'yourself',\n",
    " 'yourselves',\n",
    " 'he',\n",
    " 'him',\n",
    " 'his',\n",
    " 'himself',\n",
    " 'she',\n",
    " \"she's\",\n",
    " 'her',\n",
    " 'hers',\n",
    " 'herself',\n",
    " 'it',\n",
    " 'its',\n",
    " 'itself',\n",
    " 'they',\n",
    " 'them',\n",
    " 'their',\n",
    " 'theirs',\n",
    " 'themselves',\n",
    " 'what',\n",
    " 'which',\n",
    " 'who',\n",
    " 'whom',\n",
    " 'this',\n",
    " 'that',\n",
    " \"that'll\",\n",
    " 'these',\n",
    " 'those',\n",
    " 'am',\n",
    " 'is',\n",
    " 'are',\n",
    " 'was',\n",
    " 'were',\n",
    " 'be',\n",
    " 'been',\n",
    " 'being',\n",
    " 'have',\n",
    " 'has',\n",
    " 'had',\n",
    " 'having',\n",
    " 'do',\n",
    " 'does',\n",
    " 'did',\n",
    " 'doing',\n",
    " 'a',\n",
    " 'an',\n",
    " 'the',\n",
    " 'and',\n",
    " 'if',\n",
    " 'or',\n",
    " 'because',\n",
    " 'as',\n",
    " 'until',\n",
    " 'while',\n",
    " 'at',\n",
    " 'by',\n",
    " 'for',\n",
    " 'with',\n",
    " 'about',\n",
    " 'between',\n",
    " 'into',\n",
    " 'through',\n",
    " 'during',\n",
    " 'before',\n",
    " 'after',\n",
    " 'above',\n",
    " 'below',\n",
    " 'to',\n",
    " 'from',\n",
    " 'up',\n",
    " 'down',\n",
    " 'in',\n",
    " 'on',\n",
    " 'further',\n",
    " 'then',\n",
    " 'once',\n",
    " 'here',\n",
    " 'there',\n",
    " 'when',\n",
    " 'where',\n",
    " 'why',\n",
    " 'how',\n",
    " 'all',\n",
    " 'both',\n",
    " 'each',\n",
    " 'few',\n",
    " 'more',\n",
    " 'most',\n",
    " 'other',\n",
    " 'some',\n",
    " 'such',\n",
    " 'own',\n",
    " 's',\n",
    " 'can',\n",
    " 'will',\n",
    " 'just',\n",
    " 'don'\n",
    " 'now',\n",
    " 'll',\n",
    " 'm',\n",
    " 'o',\n",
    " 're',\n",
    " 've',\n",
    " 'y',\n",
    " 'ain',\n",
    " 'aren',\n",
    " 'ma']"
   ]
  },
  {
   "cell_type": "code",
   "execution_count": 20,
   "id": "2cba4dd8",
   "metadata": {},
   "outputs": [],
   "source": [
    "class Preprocessing:\n",
    "    def __init__(self, data):\n",
    "        self.txt = data\n",
    "\n",
    "    def remove_punctuation(self):\n",
    "        punc = list(punctuation)\n",
    "        remove_pun  = [''.join(char for char in sentence if char not in punc) for sentence in self.txt]\n",
    "        self.txt=remove_pun\n",
    "        print(self.txt[:5])\n",
    "        \n",
    "    def Word_Tokenization(self):\n",
    "        tokenized_sentences = []\n",
    "        for sentence in self.txt:\n",
    "            tokens = word_tokenize(sentence)\n",
    "            tokenized_sentences.append(tokens)\n",
    "        self.txt = tokenized_sentences\n",
    "        print(self.txt[:5])\n",
    "\n",
    "    def remove_stop_words(self):\n",
    "        stop_words = stopwords_english\n",
    "        filtered_sentences = []\n",
    "        for sentence in self.txt:\n",
    "            filtered_words = []\n",
    "            for word in sentence:\n",
    "                if word.lower() not in stop_words:\n",
    "                    filtered_words.append(word.lower())\n",
    "            filtered_sentences.append(filtered_words)\n",
    "        self.txt = filtered_sentences\n",
    "        print(self.txt[:5])\n",
    "\n",
    "    def snowball_stemmer(self):\n",
    "        ps = SnowballStemmer(language='english')\n",
    "        snowball_sentences = []\n",
    "        for sentence in self.txt:\n",
    "            snowball_words = []\n",
    "            for word in sentence:\n",
    "                snowball_words.append(ps.stem(word))\n",
    "            snowball_sentences.append(snowball_words)\n",
    "        self.txt = snowball_sentences\n",
    "        print(self.txt[:5])\n",
    "\n",
    "    def portstemmer_sentence(self):\n",
    "        ps = PorterStemmer()\n",
    "        portstemmer_sentences = []\n",
    "        for sentence in self.txt:\n",
    "            portstemmer_words = []\n",
    "            for word in sentence:\n",
    "                portstemmer_words.append(ps.stem(word))\n",
    "            portstemmer_sentences.append(portstemmer_words)\n",
    "        self.txt = portstemmer_sentences\n",
    "        print(self.txt[:5])\n",
    "\n",
    "    def lemmatization(self):\n",
    "        lemmatizer=WordNetLemmatizer()\n",
    "        lemma_sentences = []\n",
    "        for sentence in self.txt:\n",
    "            lemma_words = []\n",
    "            for word in sentence:\n",
    "                lemma_words.append(lemmatizer.lemmatize(word))\n",
    "            lemma_sentences.append(lemma_words)\n",
    "        self.txt = lemma_sentences\n",
    "        print(self.txt[:5])\n",
    "\n",
    "    def return_data(self):\n",
    "        new=[]\n",
    "        for sentences in self.txt:\n",
    "            sentence = ' '.join(sentences)\n",
    "            new.append(sentence)\n",
    "        return new"
   ]
  },
  {
   "cell_type": "code",
   "execution_count": 21,
   "id": "90126266",
   "metadata": {},
   "outputs": [],
   "source": [
    "processed_data=Preprocessing(X_data)"
   ]
  },
  {
   "cell_type": "code",
   "execution_count": 22,
   "id": "0e0f0360",
   "metadata": {},
   "outputs": [
    {
     "name": "stdout",
     "output_type": "stream",
     "text": [
      "['If your skin has a tendency to get burns or ingrown hairs from shaving then this stuff will fix you right upI have sensitive skin and I have been using this product for about 8 years and I wont bother trying anything else Use it regularly and properly and it will reduce or eliminate razor burn and ingrown hairsIt stings a little when it goes on but Ill gladly suffer that temporary discomfort to gain the smooth and blemishfree skin it provides', 'I think this book was simply smashing The charactors came alive as you read the book and the angels were simply adorable The book is written in a matter that the charactors come alive and you feel as though you are there in the book with them The book makes you laugh cry and just feel your emotions clearly I would recomend this book to anyone I know Matter of fact I am in the process of doing just that So if you are into reading outstanding books this is one of the best', 'While I was laid up for 7 weeks with a broken foot I ordered this to play on my Kindle it was so beautiful and relaxing that I also ordered a CD I have several CDs like this and just play them all day as background music Adds a special touch to my day', 'I chose this rating because I liked the product although it did take a longer than expected time of arrival', 'SPOILER While Gal Costa sings Se Todos Fossem Iguais a Voce o Maestro appears on stage with the music still going embracing the musicians and saying no words The crowd stands up and applauds him Herbie Hancock stands up too and leaves the piano to him who starts playing and singing At the end while the musicians are still playing Garota de Ipanema o Maestro stands up wordlessly greets the public and the musicians and goes away He came with the music he went away with the music no explanations needed He would die the year after leaving us such a great heritage Thanks Maestro we will not forget you', 'Well talk about your sonic blasts of genius What an amazing disc Stop reading this right now and buy it Each page goes for about 60 seconds before is spirals off into some other kaleidoscopic dimension bouncing off all styles times and sounds along the way Darting between loud and louder in a heart beat this is truly music for fans of music I dont need to mention who plays this music as all four members are brilliant in their own right Words cannot describe Feed it to your cd player and turn it up a notch', 'Theres much more that Martin Gross could have put it here but as it is its all depressing enough Hes EXACTLY right about everything I wish he had been able to give us something to be hopeful about Perhaps if everyone could see how the military is being feminized colleges dumbeddown society resegragated and political correctness turning everything into a surreal social experiment then maybe there would be some hope As it is up is down black is white and welcome to the Orwellian world of 1984 A must read', 'The Gymini deluxe is a must have My daughter loves to play on it From about 6 weeks on we began putting her on it and the older she got the more she enjoyed it The colors and toys hanging above her head really caught her attention  She spends up to an hour on it just laughing and cooingIt gives mommy time to get some things around the house done while knowing shes enjoying herselfI would definately recommend this to any new mommy What a great idea for our little ones', 'My grandson had asked for these flexhead wrench set which I found at amazoncom at a very reasonable price Very happy with purchase', 'The leather on our couches was becoming stiff from alot of use I decided to try this product and Im very pleased with the results It took a couple of coats to soften in places but a beautiful shine came from the very first coat It made our old couches look chic new and protected']\n"
     ]
    }
   ],
   "source": [
    "processed_data.remove_punctuation()"
   ]
  },
  {
   "cell_type": "code",
   "execution_count": 23,
   "id": "e7b32ef4",
   "metadata": {},
   "outputs": [
    {
     "name": "stdout",
     "output_type": "stream",
     "text": [
      "[['If', 'your', 'skin', 'has', 'a', 'tendency', 'to', 'get', 'burns', 'or', 'ingrown', 'hairs', 'from', 'shaving', 'then', 'this', 'stuff', 'will', 'fix', 'you', 'right', 'upI', 'have', 'sensitive', 'skin', 'and', 'I', 'have', 'been', 'using', 'this', 'product', 'for', 'about', '8', 'years', 'and', 'I', 'wont', 'bother', 'trying', 'anything', 'else', 'Use', 'it', 'regularly', 'and', 'properly', 'and', 'it', 'will', 'reduce', 'or', 'eliminate', 'razor', 'burn', 'and', 'ingrown', 'hairsIt', 'stings', 'a', 'little', 'when', 'it', 'goes', 'on', 'but', 'Ill', 'gladly', 'suffer', 'that', 'temporary', 'discomfort', 'to', 'gain', 'the', 'smooth', 'and', 'blemishfree', 'skin', 'it', 'provides'], ['I', 'think', 'this', 'book', 'was', 'simply', 'smashing', 'The', 'charactors', 'came', 'alive', 'as', 'you', 'read', 'the', 'book', 'and', 'the', 'angels', 'were', 'simply', 'adorable', 'The', 'book', 'is', 'written', 'in', 'a', 'matter', 'that', 'the', 'charactors', 'come', 'alive', 'and', 'you', 'feel', 'as', 'though', 'you', 'are', 'there', 'in', 'the', 'book', 'with', 'them', 'The', 'book', 'makes', 'you', 'laugh', 'cry', 'and', 'just', 'feel', 'your', 'emotions', 'clearly', 'I', 'would', 'recomend', 'this', 'book', 'to', 'anyone', 'I', 'know', 'Matter', 'of', 'fact', 'I', 'am', 'in', 'the', 'process', 'of', 'doing', 'just', 'that', 'So', 'if', 'you', 'are', 'into', 'reading', 'outstanding', 'books', 'this', 'is', 'one', 'of', 'the', 'best'], ['While', 'I', 'was', 'laid', 'up', 'for', '7', 'weeks', 'with', 'a', 'broken', 'foot', 'I', 'ordered', 'this', 'to', 'play', 'on', 'my', 'Kindle', 'it', 'was', 'so', 'beautiful', 'and', 'relaxing', 'that', 'I', 'also', 'ordered', 'a', 'CD', 'I', 'have', 'several', 'CDs', 'like', 'this', 'and', 'just', 'play', 'them', 'all', 'day', 'as', 'background', 'music', 'Adds', 'a', 'special', 'touch', 'to', 'my', 'day'], ['I', 'chose', 'this', 'rating', 'because', 'I', 'liked', 'the', 'product', 'although', 'it', 'did', 'take', 'a', 'longer', 'than', 'expected', 'time', 'of', 'arrival'], ['SPOILER', 'While', 'Gal', 'Costa', 'sings', 'Se', 'Todos', 'Fossem', 'Iguais', 'a', 'Voce', 'o', 'Maestro', 'appears', 'on', 'stage', 'with', 'the', 'music', 'still', 'going', 'embracing', 'the', 'musicians', 'and', 'saying', 'no', 'words', 'The', 'crowd', 'stands', 'up', 'and', 'applauds', 'him', 'Herbie', 'Hancock', 'stands', 'up', 'too', 'and', 'leaves', 'the', 'piano', 'to', 'him', 'who', 'starts', 'playing', 'and', 'singing', 'At', 'the', 'end', 'while', 'the', 'musicians', 'are', 'still', 'playing', 'Garota', 'de', 'Ipanema', 'o', 'Maestro', 'stands', 'up', 'wordlessly', 'greets', 'the', 'public', 'and', 'the', 'musicians', 'and', 'goes', 'away', 'He', 'came', 'with', 'the', 'music', 'he', 'went', 'away', 'with', 'the', 'music', 'no', 'explanations', 'needed', 'He', 'would', 'die', 'the', 'year', 'after', 'leaving', 'us', 'such', 'a', 'great', 'heritage', 'Thanks', 'Maestro', 'we', 'will', 'not', 'forget', 'you'], ['Well', 'talk', 'about', 'your', 'sonic', 'blasts', 'of', 'genius', 'What', 'an', 'amazing', 'disc', 'Stop', 'reading', 'this', 'right', 'now', 'and', 'buy', 'it', 'Each', 'page', 'goes', 'for', 'about', '60', 'seconds', 'before', 'is', 'spirals', 'off', 'into', 'some', 'other', 'kaleidoscopic', 'dimension', 'bouncing', 'off', 'all', 'styles', 'times', 'and', 'sounds', 'along', 'the', 'way', 'Darting', 'between', 'loud', 'and', 'louder', 'in', 'a', 'heart', 'beat', 'this', 'is', 'truly', 'music', 'for', 'fans', 'of', 'music', 'I', 'dont', 'need', 'to', 'mention', 'who', 'plays', 'this', 'music', 'as', 'all', 'four', 'members', 'are', 'brilliant', 'in', 'their', 'own', 'right', 'Words', 'can', 'not', 'describe', 'Feed', 'it', 'to', 'your', 'cd', 'player', 'and', 'turn', 'it', 'up', 'a', 'notch'], ['Theres', 'much', 'more', 'that', 'Martin', 'Gross', 'could', 'have', 'put', 'it', 'here', 'but', 'as', 'it', 'is', 'its', 'all', 'depressing', 'enough', 'Hes', 'EXACTLY', 'right', 'about', 'everything', 'I', 'wish', 'he', 'had', 'been', 'able', 'to', 'give', 'us', 'something', 'to', 'be', 'hopeful', 'about', 'Perhaps', 'if', 'everyone', 'could', 'see', 'how', 'the', 'military', 'is', 'being', 'feminized', 'colleges', 'dumbeddown', 'society', 'resegragated', 'and', 'political', 'correctness', 'turning', 'everything', 'into', 'a', 'surreal', 'social', 'experiment', 'then', 'maybe', 'there', 'would', 'be', 'some', 'hope', 'As', 'it', 'is', 'up', 'is', 'down', 'black', 'is', 'white', 'and', 'welcome', 'to', 'the', 'Orwellian', 'world', 'of', '1984', 'A', 'must', 'read'], ['The', 'Gymini', 'deluxe', 'is', 'a', 'must', 'have', 'My', 'daughter', 'loves', 'to', 'play', 'on', 'it', 'From', 'about', '6', 'weeks', 'on', 'we', 'began', 'putting', 'her', 'on', 'it', 'and', 'the', 'older', 'she', 'got', 'the', 'more', 'she', 'enjoyed', 'it', 'The', 'colors', 'and', 'toys', 'hanging', 'above', 'her', 'head', 'really', 'caught', 'her', 'attention', 'She', 'spends', 'up', 'to', 'an', 'hour', 'on', 'it', 'just', 'laughing', 'and', 'cooingIt', 'gives', 'mommy', 'time', 'to', 'get', 'some', 'things', 'around', 'the', 'house', 'done', 'while', 'knowing', 'shes', 'enjoying', 'herselfI', 'would', 'definately', 'recommend', 'this', 'to', 'any', 'new', 'mommy', 'What', 'a', 'great', 'idea', 'for', 'our', 'little', 'ones'], ['My', 'grandson', 'had', 'asked', 'for', 'these', 'flexhead', 'wrench', 'set', 'which', 'I', 'found', 'at', 'amazoncom', 'at', 'a', 'very', 'reasonable', 'price', 'Very', 'happy', 'with', 'purchase'], ['The', 'leather', 'on', 'our', 'couches', 'was', 'becoming', 'stiff', 'from', 'alot', 'of', 'use', 'I', 'decided', 'to', 'try', 'this', 'product', 'and', 'Im', 'very', 'pleased', 'with', 'the', 'results', 'It', 'took', 'a', 'couple', 'of', 'coats', 'to', 'soften', 'in', 'places', 'but', 'a', 'beautiful', 'shine', 'came', 'from', 'the', 'very', 'first', 'coat', 'It', 'made', 'our', 'old', 'couches', 'look', 'chic', 'new', 'and', 'protected']]\n"
     ]
    }
   ],
   "source": [
    "processed_data.Word_Tokenization()"
   ]
  },
  {
   "cell_type": "code",
   "execution_count": 24,
   "id": "e76d54be",
   "metadata": {},
   "outputs": [
    {
     "name": "stdout",
     "output_type": "stream",
     "text": [
      "[['skin', 'tendency', 'get', 'burns', 'ingrown', 'hairs', 'shaving', 'stuff', 'fix', 'right', 'upi', 'sensitive', 'skin', 'using', 'product', '8', 'years', 'wont', 'bother', 'trying', 'anything', 'else', 'use', 'regularly', 'properly', 'reduce', 'eliminate', 'razor', 'burn', 'ingrown', 'hairsit', 'stings', 'little', 'goes', 'but', 'ill', 'gladly', 'suffer', 'temporary', 'discomfort', 'gain', 'smooth', 'blemishfree', 'skin', 'provides'], ['think', 'book', 'simply', 'smashing', 'charactors', 'came', 'alive', 'read', 'book', 'angels', 'simply', 'adorable', 'book', 'written', 'matter', 'charactors', 'come', 'alive', 'feel', 'though', 'book', 'book', 'makes', 'laugh', 'cry', 'feel', 'emotions', 'clearly', 'would', 'recomend', 'book', 'anyone', 'know', 'matter', 'of', 'fact', 'process', 'of', 'so', 'reading', 'outstanding', 'books', 'one', 'of', 'best'], ['laid', '7', 'weeks', 'broken', 'foot', 'ordered', 'play', 'kindle', 'so', 'beautiful', 'relaxing', 'also', 'ordered', 'cd', 'several', 'cds', 'like', 'play', 'day', 'background', 'music', 'adds', 'special', 'touch', 'day'], ['chose', 'rating', 'liked', 'product', 'although', 'take', 'longer', 'than', 'expected', 'time', 'of', 'arrival'], ['spoiler', 'gal', 'costa', 'sings', 'se', 'todos', 'fossem', 'iguais', 'voce', 'maestro', 'appears', 'stage', 'music', 'still', 'going', 'embracing', 'musicians', 'saying', 'no', 'words', 'crowd', 'stands', 'applauds', 'herbie', 'hancock', 'stands', 'too', 'leaves', 'piano', 'starts', 'playing', 'singing', 'end', 'musicians', 'still', 'playing', 'garota', 'de', 'ipanema', 'maestro', 'stands', 'wordlessly', 'greets', 'public', 'musicians', 'goes', 'away', 'came', 'music', 'went', 'away', 'music', 'no', 'explanations', 'needed', 'would', 'die', 'year', 'leaving', 'us', 'great', 'heritage', 'thanks', 'maestro', 'not', 'forget'], ['well', 'talk', 'sonic', 'blasts', 'of', 'genius', 'amazing', 'disc', 'stop', 'reading', 'right', 'now', 'buy', 'page', 'goes', '60', 'seconds', 'spirals', 'off', 'kaleidoscopic', 'dimension', 'bouncing', 'off', 'styles', 'times', 'sounds', 'along', 'way', 'darting', 'loud', 'louder', 'heart', 'beat', 'truly', 'music', 'fans', 'of', 'music', 'dont', 'need', 'mention', 'plays', 'music', 'four', 'members', 'brilliant', 'right', 'words', 'not', 'describe', 'feed', 'cd', 'player', 'turn', 'notch'], ['theres', 'much', 'martin', 'gross', 'could', 'put', 'but', 'depressing', 'enough', 'hes', 'exactly', 'right', 'everything', 'wish', 'able', 'give', 'us', 'something', 'hopeful', 'perhaps', 'everyone', 'could', 'see', 'military', 'feminized', 'colleges', 'dumbeddown', 'society', 'resegragated', 'political', 'correctness', 'turning', 'everything', 'surreal', 'social', 'experiment', 'maybe', 'would', 'hope', 'black', 'white', 'welcome', 'orwellian', 'world', 'of', '1984', 'must', 'read'], ['gymini', 'deluxe', 'must', 'daughter', 'loves', 'play', '6', 'weeks', 'began', 'putting', 'older', 'got', 'enjoyed', 'colors', 'toys', 'hanging', 'head', 'really', 'caught', 'attention', 'spends', 'hour', 'laughing', 'cooingit', 'gives', 'mommy', 'time', 'get', 'things', 'around', 'house', 'done', 'knowing', 'shes', 'enjoying', 'herselfi', 'would', 'definately', 'recommend', 'any', 'new', 'mommy', 'great', 'idea', 'little', 'ones'], ['grandson', 'asked', 'flexhead', 'wrench', 'set', 'found', 'amazoncom', 'very', 'reasonable', 'price', 'very', 'happy', 'purchase'], ['leather', 'couches', 'becoming', 'stiff', 'alot', 'of', 'use', 'decided', 'try', 'product', 'im', 'very', 'pleased', 'results', 'took', 'couple', 'of', 'coats', 'soften', 'places', 'but', 'beautiful', 'shine', 'came', 'very', 'first', 'coat', 'made', 'old', 'couches', 'look', 'chic', 'new', 'protected']]\n"
     ]
    }
   ],
   "source": [
    "processed_data.remove_stop_words()"
   ]
  },
  {
   "cell_type": "code",
   "execution_count": 25,
   "id": "7b73918d",
   "metadata": {},
   "outputs": [
    {
     "name": "stdout",
     "output_type": "stream",
     "text": [
      "[['skin', 'tendenc', 'get', 'burn', 'ingrown', 'hair', 'shave', 'stuff', 'fix', 'right', 'upi', 'sensit', 'skin', 'use', 'product', '8', 'year', 'wont', 'bother', 'tri', 'anyth', 'els', 'use', 'regular', 'proper', 'reduc', 'elimin', 'razor', 'burn', 'ingrown', 'hairsit', 'sting', 'littl', 'goe', 'but', 'ill', 'glad', 'suffer', 'temporari', 'discomfort', 'gain', 'smooth', 'blemishfre', 'skin', 'provid'], ['think', 'book', 'simpli', 'smash', 'charactor', 'came', 'aliv', 'read', 'book', 'angel', 'simpli', 'ador', 'book', 'written', 'matter', 'charactor', 'come', 'aliv', 'feel', 'though', 'book', 'book', 'make', 'laugh', 'cri', 'feel', 'emot', 'clear', 'would', 'recomend', 'book', 'anyon', 'know', 'matter', 'of', 'fact', 'process', 'of', 'so', 'read', 'outstand', 'book', 'one', 'of', 'best'], ['laid', '7', 'week', 'broken', 'foot', 'order', 'play', 'kindl', 'so', 'beauti', 'relax', 'also', 'order', 'cd', 'sever', 'cds', 'like', 'play', 'day', 'background', 'music', 'add', 'special', 'touch', 'day'], ['chose', 'rate', 'like', 'product', 'although', 'take', 'longer', 'than', 'expect', 'time', 'of', 'arriv'], ['spoiler', 'gal', 'costa', 'sing', 'se', 'todo', 'fossem', 'iguai', 'voce', 'maestro', 'appear', 'stage', 'music', 'still', 'go', 'embrac', 'musician', 'say', 'no', 'word', 'crowd', 'stand', 'applaud', 'herbi', 'hancock', 'stand', 'too', 'leav', 'piano', 'start', 'play', 'sing', 'end', 'musician', 'still', 'play', 'garota', 'de', 'ipanema', 'maestro', 'stand', 'wordless', 'greet', 'public', 'musician', 'goe', 'away', 'came', 'music', 'went', 'away', 'music', 'no', 'explan', 'need', 'would', 'die', 'year', 'leav', 'us', 'great', 'heritag', 'thank', 'maestro', 'not', 'forget'], ['well', 'talk', 'sonic', 'blast', 'of', 'genius', 'amaz', 'disc', 'stop', 'read', 'right', 'now', 'buy', 'page', 'goe', '60', 'second', 'spiral', 'off', 'kaleidoscop', 'dimens', 'bounc', 'off', 'style', 'time', 'sound', 'along', 'way', 'dart', 'loud', 'louder', 'heart', 'beat', 'truli', 'music', 'fan', 'of', 'music', 'dont', 'need', 'mention', 'play', 'music', 'four', 'member', 'brilliant', 'right', 'word', 'not', 'describ', 'feed', 'cd', 'player', 'turn', 'notch'], ['there', 'much', 'martin', 'gross', 'could', 'put', 'but', 'depress', 'enough', 'hes', 'exact', 'right', 'everyth', 'wish', 'abl', 'give', 'us', 'someth', 'hope', 'perhap', 'everyon', 'could', 'see', 'militari', 'femin', 'colleg', 'dumbeddown', 'societi', 'resegrag', 'polit', 'correct', 'turn', 'everyth', 'surreal', 'social', 'experi', 'mayb', 'would', 'hope', 'black', 'white', 'welcom', 'orwellian', 'world', 'of', '1984', 'must', 'read'], ['gymini', 'delux', 'must', 'daughter', 'love', 'play', '6', 'week', 'began', 'put', 'older', 'got', 'enjoy', 'color', 'toy', 'hang', 'head', 'realli', 'caught', 'attent', 'spend', 'hour', 'laugh', 'cooingit', 'give', 'mommi', 'time', 'get', 'thing', 'around', 'hous', 'done', 'know', 'shes', 'enjoy', 'herselfi', 'would', 'defin', 'recommend', 'ani', 'new', 'mommi', 'great', 'idea', 'littl', 'one'], ['grandson', 'ask', 'flexhead', 'wrench', 'set', 'found', 'amazoncom', 'veri', 'reason', 'price', 'veri', 'happi', 'purchas'], ['leather', 'couch', 'becom', 'stiff', 'alot', 'of', 'use', 'decid', 'tri', 'product', 'im', 'veri', 'pleas', 'result', 'took', 'coupl', 'of', 'coat', 'soften', 'place', 'but', 'beauti', 'shine', 'came', 'veri', 'first', 'coat', 'made', 'old', 'couch', 'look', 'chic', 'new', 'protect']]\n"
     ]
    }
   ],
   "source": [
    "processed_data.snowball_stemmer()"
   ]
  },
  {
   "cell_type": "code",
   "execution_count": 26,
   "id": "e67cdf8c",
   "metadata": {},
   "outputs": [
    {
     "name": "stdout",
     "output_type": "stream",
     "text": [
      "[['skin', 'tendenc', 'get', 'burn', 'ingrown', 'hair', 'shave', 'stuff', 'fix', 'right', 'upi', 'sensit', 'skin', 'use', 'product', '8', 'year', 'wont', 'bother', 'tri', 'anyth', 'el', 'use', 'regular', 'proper', 'reduc', 'elimin', 'razor', 'burn', 'ingrown', 'hairsit', 'sting', 'littl', 'goe', 'but', 'ill', 'glad', 'suffer', 'temporari', 'discomfort', 'gain', 'smooth', 'blemishfr', 'skin', 'provid'], ['think', 'book', 'simpli', 'smash', 'charactor', 'came', 'aliv', 'read', 'book', 'angel', 'simpli', 'ador', 'book', 'written', 'matter', 'charactor', 'come', 'aliv', 'feel', 'though', 'book', 'book', 'make', 'laugh', 'cri', 'feel', 'emot', 'clear', 'would', 'recomend', 'book', 'anyon', 'know', 'matter', 'of', 'fact', 'process', 'of', 'so', 'read', 'outstand', 'book', 'one', 'of', 'best'], ['laid', '7', 'week', 'broken', 'foot', 'order', 'play', 'kindl', 'so', 'beauti', 'relax', 'also', 'order', 'cd', 'sever', 'cd', 'like', 'play', 'day', 'background', 'music', 'add', 'special', 'touch', 'day'], ['chose', 'rate', 'like', 'product', 'although', 'take', 'longer', 'than', 'expect', 'time', 'of', 'arriv'], ['spoiler', 'gal', 'costa', 'sing', 'se', 'todo', 'fossem', 'iguai', 'voce', 'maestro', 'appear', 'stage', 'music', 'still', 'go', 'embrac', 'musician', 'say', 'no', 'word', 'crowd', 'stand', 'applaud', 'herbi', 'hancock', 'stand', 'too', 'leav', 'piano', 'start', 'play', 'sing', 'end', 'musician', 'still', 'play', 'garota', 'de', 'ipanema', 'maestro', 'stand', 'wordless', 'greet', 'public', 'musician', 'goe', 'away', 'came', 'music', 'went', 'away', 'music', 'no', 'explan', 'need', 'would', 'die', 'year', 'leav', 'us', 'great', 'heritag', 'thank', 'maestro', 'not', 'forget'], ['well', 'talk', 'sonic', 'blast', 'of', 'geniu', 'amaz', 'disc', 'stop', 'read', 'right', 'now', 'buy', 'page', 'goe', '60', 'second', 'spiral', 'off', 'kaleidoscop', 'dimen', 'bounc', 'off', 'style', 'time', 'sound', 'along', 'way', 'dart', 'loud', 'louder', 'heart', 'beat', 'truli', 'music', 'fan', 'of', 'music', 'dont', 'need', 'mention', 'play', 'music', 'four', 'member', 'brilliant', 'right', 'word', 'not', 'describ', 'feed', 'cd', 'player', 'turn', 'notch'], ['there', 'much', 'martin', 'gross', 'could', 'put', 'but', 'depress', 'enough', 'he', 'exact', 'right', 'everyth', 'wish', 'abl', 'give', 'us', 'someth', 'hope', 'perhap', 'everyon', 'could', 'see', 'militari', 'femin', 'colleg', 'dumbeddown', 'societi', 'resegrag', 'polit', 'correct', 'turn', 'everyth', 'surreal', 'social', 'experi', 'mayb', 'would', 'hope', 'black', 'white', 'welcom', 'orwellian', 'world', 'of', '1984', 'must', 'read'], ['gymini', 'delux', 'must', 'daughter', 'love', 'play', '6', 'week', 'began', 'put', 'older', 'got', 'enjoy', 'color', 'toy', 'hang', 'head', 'realli', 'caught', 'attent', 'spend', 'hour', 'laugh', 'cooingit', 'give', 'mommi', 'time', 'get', 'thing', 'around', 'hou', 'done', 'know', 'she', 'enjoy', 'herselfi', 'would', 'defin', 'recommend', 'ani', 'new', 'mommi', 'great', 'idea', 'littl', 'one'], ['grandson', 'ask', 'flexhead', 'wrench', 'set', 'found', 'amazoncom', 'veri', 'reason', 'price', 'veri', 'happi', 'purcha'], ['leather', 'couch', 'becom', 'stiff', 'alot', 'of', 'use', 'decid', 'tri', 'product', 'im', 'veri', 'plea', 'result', 'took', 'coupl', 'of', 'coat', 'soften', 'place', 'but', 'beauti', 'shine', 'came', 'veri', 'first', 'coat', 'made', 'old', 'couch', 'look', 'chic', 'new', 'protect']]\n"
     ]
    }
   ],
   "source": [
    "processed_data.portstemmer_sentence()"
   ]
  },
  {
   "cell_type": "code",
   "execution_count": 27,
   "id": "beeaa106",
   "metadata": {},
   "outputs": [
    {
     "name": "stdout",
     "output_type": "stream",
     "text": [
      "[['skin', 'tendenc', 'get', 'burn', 'ingrown', 'hair', 'shave', 'stuff', 'fix', 'right', 'upi', 'sensit', 'skin', 'use', 'product', '8', 'year', 'wont', 'bother', 'tri', 'anyth', 'el', 'use', 'regular', 'proper', 'reduc', 'elimin', 'razor', 'burn', 'ingrown', 'hairsit', 'sting', 'littl', 'goe', 'but', 'ill', 'glad', 'suffer', 'temporari', 'discomfort', 'gain', 'smooth', 'blemishfr', 'skin', 'provid'], ['think', 'book', 'simpli', 'smash', 'charactor', 'came', 'aliv', 'read', 'book', 'angel', 'simpli', 'ador', 'book', 'written', 'matter', 'charactor', 'come', 'aliv', 'feel', 'though', 'book', 'book', 'make', 'laugh', 'cri', 'feel', 'emot', 'clear', 'would', 'recomend', 'book', 'anyon', 'know', 'matter', 'of', 'fact', 'process', 'of', 'so', 'read', 'outstand', 'book', 'one', 'of', 'best'], ['laid', '7', 'week', 'broken', 'foot', 'order', 'play', 'kindl', 'so', 'beauti', 'relax', 'also', 'order', 'cd', 'sever', 'cd', 'like', 'play', 'day', 'background', 'music', 'add', 'special', 'touch', 'day'], ['chose', 'rate', 'like', 'product', 'although', 'take', 'longer', 'than', 'expect', 'time', 'of', 'arriv'], ['spoiler', 'gal', 'costa', 'sing', 'se', 'todo', 'fossem', 'iguai', 'voce', 'maestro', 'appear', 'stage', 'music', 'still', 'go', 'embrac', 'musician', 'say', 'no', 'word', 'crowd', 'stand', 'applaud', 'herbi', 'hancock', 'stand', 'too', 'leav', 'piano', 'start', 'play', 'sing', 'end', 'musician', 'still', 'play', 'garota', 'de', 'ipanema', 'maestro', 'stand', 'wordless', 'greet', 'public', 'musician', 'goe', 'away', 'came', 'music', 'went', 'away', 'music', 'no', 'explan', 'need', 'would', 'die', 'year', 'leav', 'u', 'great', 'heritag', 'thank', 'maestro', 'not', 'forget'], ['well', 'talk', 'sonic', 'blast', 'of', 'geniu', 'amaz', 'disc', 'stop', 'read', 'right', 'now', 'buy', 'page', 'goe', '60', 'second', 'spiral', 'off', 'kaleidoscop', 'dimen', 'bounc', 'off', 'style', 'time', 'sound', 'along', 'way', 'dart', 'loud', 'louder', 'heart', 'beat', 'truli', 'music', 'fan', 'of', 'music', 'dont', 'need', 'mention', 'play', 'music', 'four', 'member', 'brilliant', 'right', 'word', 'not', 'describ', 'feed', 'cd', 'player', 'turn', 'notch'], ['there', 'much', 'martin', 'gross', 'could', 'put', 'but', 'depress', 'enough', 'he', 'exact', 'right', 'everyth', 'wish', 'abl', 'give', 'u', 'someth', 'hope', 'perhap', 'everyon', 'could', 'see', 'militari', 'femin', 'colleg', 'dumbeddown', 'societi', 'resegrag', 'polit', 'correct', 'turn', 'everyth', 'surreal', 'social', 'experi', 'mayb', 'would', 'hope', 'black', 'white', 'welcom', 'orwellian', 'world', 'of', '1984', 'must', 'read'], ['gymini', 'delux', 'must', 'daughter', 'love', 'play', '6', 'week', 'began', 'put', 'older', 'got', 'enjoy', 'color', 'toy', 'hang', 'head', 'realli', 'caught', 'attent', 'spend', 'hour', 'laugh', 'cooingit', 'give', 'mommi', 'time', 'get', 'thing', 'around', 'hou', 'done', 'know', 'she', 'enjoy', 'herselfi', 'would', 'defin', 'recommend', 'ani', 'new', 'mommi', 'great', 'idea', 'littl', 'one'], ['grandson', 'ask', 'flexhead', 'wrench', 'set', 'found', 'amazoncom', 'veri', 'reason', 'price', 'veri', 'happi', 'purcha'], ['leather', 'couch', 'becom', 'stiff', 'alot', 'of', 'use', 'decid', 'tri', 'product', 'im', 'veri', 'plea', 'result', 'took', 'coupl', 'of', 'coat', 'soften', 'place', 'but', 'beauti', 'shine', 'came', 'veri', 'first', 'coat', 'made', 'old', 'couch', 'look', 'chic', 'new', 'protect']]\n"
     ]
    }
   ],
   "source": [
    "processed_data.lemmatization()"
   ]
  },
  {
   "cell_type": "code",
   "execution_count": 28,
   "id": "a726c63f",
   "metadata": {},
   "outputs": [
    {
     "name": "stdout",
     "output_type": "stream",
     "text": [
      "['skin tendenc get burn ingrown hair shave stuff fix right upi sensit skin use product 8 year wont bother tri anyth el use regular proper reduc elimin razor burn ingrown hairsit sting littl goe but ill glad suffer temporari discomfort gain smooth blemishfr skin provid', 'think book simpli smash charactor came aliv read book angel simpli ador book written matter charactor come aliv feel though book book make laugh cri feel emot clear would recomend book anyon know matter of fact process of so read outstand book one of best', 'laid 7 week broken foot order play kindl so beauti relax also order cd sever cd like play day background music add special touch day', 'chose rate like product although take longer than expect time of arriv', 'spoiler gal costa sing se todo fossem iguai voce maestro appear stage music still go embrac musician say no word crowd stand applaud herbi hancock stand too leav piano start play sing end musician still play garota de ipanema maestro stand wordless greet public musician goe away came music went away music no explan need would die year leav u great heritag thank maestro not forget', 'well talk sonic blast of geniu amaz disc stop read right now buy page goe 60 second spiral off kaleidoscop dimen bounc off style time sound along way dart loud louder heart beat truli music fan of music dont need mention play music four member brilliant right word not describ feed cd player turn notch', 'there much martin gross could put but depress enough he exact right everyth wish abl give u someth hope perhap everyon could see militari femin colleg dumbeddown societi resegrag polit correct turn everyth surreal social experi mayb would hope black white welcom orwellian world of 1984 must read', 'gymini delux must daughter love play 6 week began put older got enjoy color toy hang head realli caught attent spend hour laugh cooingit give mommi time get thing around hou done know she enjoy herselfi would defin recommend ani new mommi great idea littl one', 'grandson ask flexhead wrench set found amazoncom veri reason price veri happi purcha', 'leather couch becom stiff alot of use decid tri product im veri plea result took coupl of coat soften place but beauti shine came veri first coat made old couch look chic new protect']\n"
     ]
    }
   ],
   "source": [
    "final_data=processed_data.return_data()\n",
    "print(final_data[:5])"
   ]
  },
  {
   "cell_type": "markdown",
   "id": "a441ee2d",
   "metadata": {},
   "source": [
    "# Count Vectorization"
   ]
  },
  {
   "cell_type": "code",
   "execution_count": 29,
   "id": "2dfb18ac",
   "metadata": {},
   "outputs": [
    {
     "name": "stdout",
     "output_type": "stream",
     "text": [
      "(20000, 48250)\n"
     ]
    },
    {
     "data": {
      "text/html": [
       "<div>\n",
       "<style scoped>\n",
       "    .dataframe tbody tr th:only-of-type {\n",
       "        vertical-align: middle;\n",
       "    }\n",
       "\n",
       "    .dataframe tbody tr th {\n",
       "        vertical-align: top;\n",
       "    }\n",
       "\n",
       "    .dataframe thead th {\n",
       "        text-align: right;\n",
       "    }\n",
       "</style>\n",
       "<table border=\"1\" class=\"dataframe\">\n",
       "  <thead>\n",
       "    <tr style=\"text-align: right;\">\n",
       "      <th></th>\n",
       "      <th>00</th>\n",
       "      <th>000</th>\n",
       "      <th>0000sinc</th>\n",
       "      <th>000277</th>\n",
       "      <th>001b</th>\n",
       "      <th>001paperback</th>\n",
       "      <th>005</th>\n",
       "      <th>00529982092146</th>\n",
       "      <th>007</th>\n",
       "      <th>01</th>\n",
       "      <th>...</th>\n",
       "      <th>èàò</th>\n",
       "      <th>èäàò</th>\n",
       "      <th>él</th>\n",
       "      <th>éno</th>\n",
       "      <th>ìà</th>\n",
       "      <th>ìè</th>\n",
       "      <th>ìèò</th>\n",
       "      <th>ñàì</th>\n",
       "      <th>ññèè</th>\n",
       "      <th>único</th>\n",
       "    </tr>\n",
       "  </thead>\n",
       "  <tbody>\n",
       "    <tr>\n",
       "      <th>0</th>\n",
       "      <td>0</td>\n",
       "      <td>0</td>\n",
       "      <td>0</td>\n",
       "      <td>0</td>\n",
       "      <td>0</td>\n",
       "      <td>0</td>\n",
       "      <td>0</td>\n",
       "      <td>0</td>\n",
       "      <td>0</td>\n",
       "      <td>0</td>\n",
       "      <td>...</td>\n",
       "      <td>0</td>\n",
       "      <td>0</td>\n",
       "      <td>0</td>\n",
       "      <td>0</td>\n",
       "      <td>0</td>\n",
       "      <td>0</td>\n",
       "      <td>0</td>\n",
       "      <td>0</td>\n",
       "      <td>0</td>\n",
       "      <td>0</td>\n",
       "    </tr>\n",
       "    <tr>\n",
       "      <th>1</th>\n",
       "      <td>0</td>\n",
       "      <td>0</td>\n",
       "      <td>0</td>\n",
       "      <td>0</td>\n",
       "      <td>0</td>\n",
       "      <td>0</td>\n",
       "      <td>0</td>\n",
       "      <td>0</td>\n",
       "      <td>0</td>\n",
       "      <td>0</td>\n",
       "      <td>...</td>\n",
       "      <td>0</td>\n",
       "      <td>0</td>\n",
       "      <td>0</td>\n",
       "      <td>0</td>\n",
       "      <td>0</td>\n",
       "      <td>0</td>\n",
       "      <td>0</td>\n",
       "      <td>0</td>\n",
       "      <td>0</td>\n",
       "      <td>0</td>\n",
       "    </tr>\n",
       "    <tr>\n",
       "      <th>2</th>\n",
       "      <td>0</td>\n",
       "      <td>0</td>\n",
       "      <td>0</td>\n",
       "      <td>0</td>\n",
       "      <td>0</td>\n",
       "      <td>0</td>\n",
       "      <td>0</td>\n",
       "      <td>0</td>\n",
       "      <td>0</td>\n",
       "      <td>0</td>\n",
       "      <td>...</td>\n",
       "      <td>0</td>\n",
       "      <td>0</td>\n",
       "      <td>0</td>\n",
       "      <td>0</td>\n",
       "      <td>0</td>\n",
       "      <td>0</td>\n",
       "      <td>0</td>\n",
       "      <td>0</td>\n",
       "      <td>0</td>\n",
       "      <td>0</td>\n",
       "    </tr>\n",
       "    <tr>\n",
       "      <th>3</th>\n",
       "      <td>0</td>\n",
       "      <td>0</td>\n",
       "      <td>0</td>\n",
       "      <td>0</td>\n",
       "      <td>0</td>\n",
       "      <td>0</td>\n",
       "      <td>0</td>\n",
       "      <td>0</td>\n",
       "      <td>0</td>\n",
       "      <td>0</td>\n",
       "      <td>...</td>\n",
       "      <td>0</td>\n",
       "      <td>0</td>\n",
       "      <td>0</td>\n",
       "      <td>0</td>\n",
       "      <td>0</td>\n",
       "      <td>0</td>\n",
       "      <td>0</td>\n",
       "      <td>0</td>\n",
       "      <td>0</td>\n",
       "      <td>0</td>\n",
       "    </tr>\n",
       "    <tr>\n",
       "      <th>4</th>\n",
       "      <td>0</td>\n",
       "      <td>0</td>\n",
       "      <td>0</td>\n",
       "      <td>0</td>\n",
       "      <td>0</td>\n",
       "      <td>0</td>\n",
       "      <td>0</td>\n",
       "      <td>0</td>\n",
       "      <td>0</td>\n",
       "      <td>0</td>\n",
       "      <td>...</td>\n",
       "      <td>0</td>\n",
       "      <td>0</td>\n",
       "      <td>0</td>\n",
       "      <td>0</td>\n",
       "      <td>0</td>\n",
       "      <td>0</td>\n",
       "      <td>0</td>\n",
       "      <td>0</td>\n",
       "      <td>0</td>\n",
       "      <td>0</td>\n",
       "    </tr>\n",
       "  </tbody>\n",
       "</table>\n",
       "<p>5 rows × 48250 columns</p>\n",
       "</div>"
      ],
      "text/plain": [
       "   00  000  0000sinc  000277  001b  001paperback  005  00529982092146  007  \\\n",
       "0   0    0         0       0     0             0    0               0    0   \n",
       "1   0    0         0       0     0             0    0               0    0   \n",
       "2   0    0         0       0     0             0    0               0    0   \n",
       "3   0    0         0       0     0             0    0               0    0   \n",
       "4   0    0         0       0     0             0    0               0    0   \n",
       "\n",
       "   01  ...  èàò  èäàò  él  éno  ìà  ìè  ìèò  ñàì  ññèè  único  \n",
       "0   0  ...    0     0   0    0   0   0    0    0     0      0  \n",
       "1   0  ...    0     0   0    0   0   0    0    0     0      0  \n",
       "2   0  ...    0     0   0    0   0   0    0    0     0      0  \n",
       "3   0  ...    0     0   0    0   0   0    0    0     0      0  \n",
       "4   0  ...    0     0   0    0   0   0    0    0     0      0  \n",
       "\n",
       "[5 rows x 48250 columns]"
      ]
     },
     "execution_count": 29,
     "metadata": {},
     "output_type": "execute_result"
    }
   ],
   "source": [
    "cv = CountVectorizer()\n",
    "cv_vec_fit = cv.fit(final_data)\n",
    "x_data = cv.fit_transform(final_data)\n",
    "print(x_data.shape)\n",
    "df = pd.DataFrame(x_data.toarray(),columns=cv.get_feature_names_out())\n",
    "df.head()"
   ]
  },
  {
   "cell_type": "markdown",
   "id": "2b29de4c",
   "metadata": {},
   "source": [
    "# N-Grams Vectorization"
   ]
  },
  {
   "cell_type": "code",
   "execution_count": 30,
   "id": "f8ba7145",
   "metadata": {},
   "outputs": [
    {
     "data": {
      "text/plain": [
       "(20000, 485840)"
      ]
     },
     "execution_count": 30,
     "metadata": {},
     "output_type": "execute_result"
    }
   ],
   "source": [
    "cv = CountVectorizer(ngram_range=(2,2))\n",
    "cv_vec_fit = cv.fit(final_data)\n",
    "x_data = cv.fit_transform(final_data)\n",
    "x_data.shape"
   ]
  },
  {
   "cell_type": "markdown",
   "id": "fd3fc548",
   "metadata": {},
   "source": [
    "# TF-IDF Vectorization"
   ]
  },
  {
   "cell_type": "code",
   "execution_count": 31,
   "id": "7988b415",
   "metadata": {},
   "outputs": [
    {
     "name": "stdout",
     "output_type": "stream",
     "text": [
      "(20000, 48250)\n"
     ]
    },
    {
     "data": {
      "text/html": [
       "<div>\n",
       "<style scoped>\n",
       "    .dataframe tbody tr th:only-of-type {\n",
       "        vertical-align: middle;\n",
       "    }\n",
       "\n",
       "    .dataframe tbody tr th {\n",
       "        vertical-align: top;\n",
       "    }\n",
       "\n",
       "    .dataframe thead th {\n",
       "        text-align: right;\n",
       "    }\n",
       "</style>\n",
       "<table border=\"1\" class=\"dataframe\">\n",
       "  <thead>\n",
       "    <tr style=\"text-align: right;\">\n",
       "      <th></th>\n",
       "      <th>00</th>\n",
       "      <th>000</th>\n",
       "      <th>0000sinc</th>\n",
       "      <th>000277</th>\n",
       "      <th>001b</th>\n",
       "      <th>001paperback</th>\n",
       "      <th>005</th>\n",
       "      <th>00529982092146</th>\n",
       "      <th>007</th>\n",
       "      <th>01</th>\n",
       "      <th>...</th>\n",
       "      <th>èàò</th>\n",
       "      <th>èäàò</th>\n",
       "      <th>él</th>\n",
       "      <th>éno</th>\n",
       "      <th>ìà</th>\n",
       "      <th>ìè</th>\n",
       "      <th>ìèò</th>\n",
       "      <th>ñàì</th>\n",
       "      <th>ññèè</th>\n",
       "      <th>único</th>\n",
       "    </tr>\n",
       "  </thead>\n",
       "  <tbody>\n",
       "    <tr>\n",
       "      <th>0</th>\n",
       "      <td>0.0</td>\n",
       "      <td>0.0</td>\n",
       "      <td>0.0</td>\n",
       "      <td>0.0</td>\n",
       "      <td>0.0</td>\n",
       "      <td>0.0</td>\n",
       "      <td>0.0</td>\n",
       "      <td>0.0</td>\n",
       "      <td>0.0</td>\n",
       "      <td>0.0</td>\n",
       "      <td>...</td>\n",
       "      <td>0.0</td>\n",
       "      <td>0.0</td>\n",
       "      <td>0.0</td>\n",
       "      <td>0.0</td>\n",
       "      <td>0.0</td>\n",
       "      <td>0.0</td>\n",
       "      <td>0.0</td>\n",
       "      <td>0.0</td>\n",
       "      <td>0.0</td>\n",
       "      <td>0.0</td>\n",
       "    </tr>\n",
       "    <tr>\n",
       "      <th>1</th>\n",
       "      <td>0.0</td>\n",
       "      <td>0.0</td>\n",
       "      <td>0.0</td>\n",
       "      <td>0.0</td>\n",
       "      <td>0.0</td>\n",
       "      <td>0.0</td>\n",
       "      <td>0.0</td>\n",
       "      <td>0.0</td>\n",
       "      <td>0.0</td>\n",
       "      <td>0.0</td>\n",
       "      <td>...</td>\n",
       "      <td>0.0</td>\n",
       "      <td>0.0</td>\n",
       "      <td>0.0</td>\n",
       "      <td>0.0</td>\n",
       "      <td>0.0</td>\n",
       "      <td>0.0</td>\n",
       "      <td>0.0</td>\n",
       "      <td>0.0</td>\n",
       "      <td>0.0</td>\n",
       "      <td>0.0</td>\n",
       "    </tr>\n",
       "    <tr>\n",
       "      <th>2</th>\n",
       "      <td>0.0</td>\n",
       "      <td>0.0</td>\n",
       "      <td>0.0</td>\n",
       "      <td>0.0</td>\n",
       "      <td>0.0</td>\n",
       "      <td>0.0</td>\n",
       "      <td>0.0</td>\n",
       "      <td>0.0</td>\n",
       "      <td>0.0</td>\n",
       "      <td>0.0</td>\n",
       "      <td>...</td>\n",
       "      <td>0.0</td>\n",
       "      <td>0.0</td>\n",
       "      <td>0.0</td>\n",
       "      <td>0.0</td>\n",
       "      <td>0.0</td>\n",
       "      <td>0.0</td>\n",
       "      <td>0.0</td>\n",
       "      <td>0.0</td>\n",
       "      <td>0.0</td>\n",
       "      <td>0.0</td>\n",
       "    </tr>\n",
       "    <tr>\n",
       "      <th>3</th>\n",
       "      <td>0.0</td>\n",
       "      <td>0.0</td>\n",
       "      <td>0.0</td>\n",
       "      <td>0.0</td>\n",
       "      <td>0.0</td>\n",
       "      <td>0.0</td>\n",
       "      <td>0.0</td>\n",
       "      <td>0.0</td>\n",
       "      <td>0.0</td>\n",
       "      <td>0.0</td>\n",
       "      <td>...</td>\n",
       "      <td>0.0</td>\n",
       "      <td>0.0</td>\n",
       "      <td>0.0</td>\n",
       "      <td>0.0</td>\n",
       "      <td>0.0</td>\n",
       "      <td>0.0</td>\n",
       "      <td>0.0</td>\n",
       "      <td>0.0</td>\n",
       "      <td>0.0</td>\n",
       "      <td>0.0</td>\n",
       "    </tr>\n",
       "    <tr>\n",
       "      <th>4</th>\n",
       "      <td>0.0</td>\n",
       "      <td>0.0</td>\n",
       "      <td>0.0</td>\n",
       "      <td>0.0</td>\n",
       "      <td>0.0</td>\n",
       "      <td>0.0</td>\n",
       "      <td>0.0</td>\n",
       "      <td>0.0</td>\n",
       "      <td>0.0</td>\n",
       "      <td>0.0</td>\n",
       "      <td>...</td>\n",
       "      <td>0.0</td>\n",
       "      <td>0.0</td>\n",
       "      <td>0.0</td>\n",
       "      <td>0.0</td>\n",
       "      <td>0.0</td>\n",
       "      <td>0.0</td>\n",
       "      <td>0.0</td>\n",
       "      <td>0.0</td>\n",
       "      <td>0.0</td>\n",
       "      <td>0.0</td>\n",
       "    </tr>\n",
       "  </tbody>\n",
       "</table>\n",
       "<p>5 rows × 48250 columns</p>\n",
       "</div>"
      ],
      "text/plain": [
       "    00  000  0000sinc  000277  001b  001paperback  005  00529982092146  007  \\\n",
       "0  0.0  0.0       0.0     0.0   0.0           0.0  0.0             0.0  0.0   \n",
       "1  0.0  0.0       0.0     0.0   0.0           0.0  0.0             0.0  0.0   \n",
       "2  0.0  0.0       0.0     0.0   0.0           0.0  0.0             0.0  0.0   \n",
       "3  0.0  0.0       0.0     0.0   0.0           0.0  0.0             0.0  0.0   \n",
       "4  0.0  0.0       0.0     0.0   0.0           0.0  0.0             0.0  0.0   \n",
       "\n",
       "    01  ...  èàò  èäàò   él  éno   ìà   ìè  ìèò  ñàì  ññèè  único  \n",
       "0  0.0  ...  0.0   0.0  0.0  0.0  0.0  0.0  0.0  0.0   0.0    0.0  \n",
       "1  0.0  ...  0.0   0.0  0.0  0.0  0.0  0.0  0.0  0.0   0.0    0.0  \n",
       "2  0.0  ...  0.0   0.0  0.0  0.0  0.0  0.0  0.0  0.0   0.0    0.0  \n",
       "3  0.0  ...  0.0   0.0  0.0  0.0  0.0  0.0  0.0  0.0   0.0    0.0  \n",
       "4  0.0  ...  0.0   0.0  0.0  0.0  0.0  0.0  0.0  0.0   0.0    0.0  \n",
       "\n",
       "[5 rows x 48250 columns]"
      ]
     },
     "execution_count": 31,
     "metadata": {},
     "output_type": "execute_result"
    }
   ],
   "source": [
    "tfidf = TfidfVectorizer()\n",
    "tfidf_vec_fit = tfidf.fit(final_data)\n",
    "x_data = tfidf.fit_transform(final_data)\n",
    "print(x_data.shape)\n",
    "df = pd.DataFrame(x_data.toarray(),columns=tfidf.get_feature_names_out())\n",
    "df.head()"
   ]
  },
  {
   "cell_type": "code",
   "execution_count": 32,
   "id": "799e10ab",
   "metadata": {},
   "outputs": [
    {
     "name": "stdout",
     "output_type": "stream",
     "text": [
      "[0.3998916749128307, 0.3969633786695363, 0.24411329500029263, 0.2145080263937341, 0.2145080263937341, 0.1914275029996674, 0.17869331848472209, 0.17686531406234868, 0.17518371300432378, 0.17217733632036786, 0.15761514738304913, 0.15561279509065548, 0.15498562022517698, 0.1448809628681038, 0.1407346784289799, 0.139516435860094, 0.13253227169658882, 0.13070426727421539, 0.1242272263587571, 0.12180043947403718]\n",
      "--------------------------------------------------\n",
      "[0.41997535201281316, 0.407213992782395, 0.3334423162541394, 0.2614336257235034, 0.24773602594893082, 0.19652265734819083, 0.19269836052515968, 0.17647061843133152, 0.16529544382424557, 0.16235755686615808, 0.15660755690740252, 0.15234681438897274, 0.14491474422539208, 0.14122322865178694, 0.13856505476218758, 0.1337523250313712, 0.11892854193194734, 0.11203789602695272, 0.10965683108008324, 0.10671067245562743]\n",
      "--------------------------------------------------\n",
      "[0.31668575531700527, 0.29499062006226817, 0.29310774636852815, 0.28923714286526453, 0.2879811937065543, 0.2565838073997385, 0.2494077791385432, 0.22937281630411127, 0.22588129097247353, 0.22159458029713208, 0.21035629263395236, 0.20817847462023703, 0.20429449015329693, 0.17803590886506154, 0.17553975369264435, 0.17463553986643604, 0.14612221752946283, 0.13243622280298317, 0.09585289320150678, 0.09485592980488008]\n",
      "--------------------------------------------------\n",
      "[0.4646253042776482, 0.3657994053505305, 0.3495387514054561, 0.33572517831594284, 0.3192976004376001, 0.28941851973336297, 0.2501069719433077, 0.2256221853093484, 0.21168499704182303, 0.18582030984499143, 0.16606611611764743, 0.09661677911513222, 0.0, 0.0, 0.0, 0.0, 0.0, 0.0, 0.0, 0.0]\n",
      "--------------------------------------------------\n",
      "[0.45323523754500983, 0.3071267822842743, 0.24858761711867403, 0.17898174193416108, 0.16660095034424932, 0.16208155424268852, 0.16208155424268852, 0.16208155424268852, 0.16208155424268852, 0.16208155424268852, 0.15564512894187246, 0.15462882273531206, 0.14753619206083393, 0.14753619206083393, 0.14007527078731802, 0.1399074666389717, 0.13820556191337113, 0.13653305033314866, 0.13363884548650196, 0.13363884548650196]\n",
      "--------------------------------------------------\n"
     ]
    }
   ],
   "source": [
    "for i in range(5) : \n",
    "    print(sorted(list(df.iloc[i,:]),reverse=True)[:20])\n",
    "    print('--------------------------------------------------')"
   ]
  },
  {
   "cell_type": "code",
   "execution_count": 33,
   "id": "a8c74738",
   "metadata": {},
   "outputs": [
    {
     "data": {
      "text/plain": [
       "0    1\n",
       "1    1\n",
       "2    1\n",
       "3    1\n",
       "4    1\n",
       "5    1\n",
       "6    1\n",
       "7    1\n",
       "8    1\n",
       "9    1\n",
       "Name: polarity, dtype: int64"
      ]
     },
     "execution_count": 33,
     "metadata": {},
     "output_type": "execute_result"
    }
   ],
   "source": [
    "y_data[:10]"
   ]
  },
  {
   "cell_type": "markdown",
   "id": "98b2fd81",
   "metadata": {},
   "source": [
    "# Splite Data"
   ]
  },
  {
   "cell_type": "code",
   "execution_count": 35,
   "id": "b7e8dbb7",
   "metadata": {},
   "outputs": [
    {
     "name": "stdout",
     "output_type": "stream",
     "text": [
      "(12800, 48250) (12800,)\n",
      "(3200, 48250) (3200,)\n",
      "(4000, 48250) (4000,)\n"
     ]
    }
   ],
   "source": [
    "X, x_test, Y, y_test = train_test_split(x_data, y_data, test_size=0.2, random_state=42)\n",
    "x_train, x_val, y_train, y_val = train_test_split(X, Y, test_size=0.2, random_state=42)\n",
    "\n",
    "print(x_train.shape , y_train.shape)\n",
    "print(x_val.shape, y_val.shape)\n",
    "print(x_test.shape,y_test.shape)"
   ]
  },
  {
   "cell_type": "markdown",
   "id": "31eeae4c",
   "metadata": {},
   "source": [
    "# Helper Functions"
   ]
  },
  {
   "cell_type": "code",
   "execution_count": 36,
   "id": "af56778d",
   "metadata": {},
   "outputs": [],
   "source": [
    "def evaluate_model(model, x_train, y_train, x_val, y_val):\n",
    "    model.fit(x_train, y_train)\n",
    "    y_pred_train = model.predict(x_train)\n",
    "    y_pred_val = model.predict(x_val)\n",
    "    acc_train = accuracy_score(y_train, y_pred_train)\n",
    "    acc_val = accuracy_score(y_val, y_pred_val)\n",
    "    return acc_train, acc_val"
   ]
  },
  {
   "cell_type": "code",
   "execution_count": 37,
   "id": "2c552f29",
   "metadata": {},
   "outputs": [],
   "source": [
    "def plot_conf_matrix(model, X_val, y_val):\n",
    "    y_pred_val = model.predict(X_val)\n",
    "    cf = confusion_matrix(y_val, y_pred_val)\n",
    "    cf_row_sum = cf.sum(axis=1, keepdims=True)\n",
    "    cf_normalized = cf/cf_row_sum\n",
    "    sn.heatmap(cf_normalized, annot=True, cmap='Blues')\n",
    "    plt.show()\n",
    "    return cf"
   ]
  },
  {
   "cell_type": "markdown",
   "id": "6bd78d9d",
   "metadata": {},
   "source": [
    "# Hyper-parameter tuning (C)"
   ]
  },
  {
   "cell_type": "code",
   "execution_count": 38,
   "id": "da7283d5",
   "metadata": {},
   "outputs": [
    {
     "data": {
      "text/html": [
       "<div>\n",
       "<style scoped>\n",
       "    .dataframe tbody tr th:only-of-type {\n",
       "        vertical-align: middle;\n",
       "    }\n",
       "\n",
       "    .dataframe tbody tr th {\n",
       "        vertical-align: top;\n",
       "    }\n",
       "\n",
       "    .dataframe thead th {\n",
       "        text-align: right;\n",
       "    }\n",
       "</style>\n",
       "<table border=\"1\" class=\"dataframe\">\n",
       "  <thead>\n",
       "    <tr style=\"text-align: right;\">\n",
       "      <th></th>\n",
       "      <th>C</th>\n",
       "      <th>acc_train</th>\n",
       "      <th>acc_val</th>\n",
       "    </tr>\n",
       "  </thead>\n",
       "  <tbody>\n",
       "    <tr>\n",
       "      <th>0</th>\n",
       "      <td>0.0001</td>\n",
       "      <td>0.509375</td>\n",
       "      <td>0.510000</td>\n",
       "    </tr>\n",
       "    <tr>\n",
       "      <th>1</th>\n",
       "      <td>0.0010</td>\n",
       "      <td>0.791797</td>\n",
       "      <td>0.774062</td>\n",
       "    </tr>\n",
       "    <tr>\n",
       "      <th>2</th>\n",
       "      <td>0.0100</td>\n",
       "      <td>0.813359</td>\n",
       "      <td>0.796250</td>\n",
       "    </tr>\n",
       "    <tr>\n",
       "      <th>3</th>\n",
       "      <td>0.1000</td>\n",
       "      <td>0.843750</td>\n",
       "      <td>0.818438</td>\n",
       "    </tr>\n",
       "    <tr>\n",
       "      <th>4</th>\n",
       "      <td>1.0000</td>\n",
       "      <td>0.903047</td>\n",
       "      <td>0.838125</td>\n",
       "    </tr>\n",
       "    <tr>\n",
       "      <th>5</th>\n",
       "      <td>10.0000</td>\n",
       "      <td>0.981641</td>\n",
       "      <td>0.839688</td>\n",
       "    </tr>\n",
       "    <tr>\n",
       "      <th>6</th>\n",
       "      <td>100.0000</td>\n",
       "      <td>0.999531</td>\n",
       "      <td>0.819375</td>\n",
       "    </tr>\n",
       "    <tr>\n",
       "      <th>7</th>\n",
       "      <td>1000.0000</td>\n",
       "      <td>1.000000</td>\n",
       "      <td>0.815000</td>\n",
       "    </tr>\n",
       "    <tr>\n",
       "      <th>8</th>\n",
       "      <td>10000.0000</td>\n",
       "      <td>1.000000</td>\n",
       "      <td>0.815625</td>\n",
       "    </tr>\n",
       "  </tbody>\n",
       "</table>\n",
       "</div>"
      ],
      "text/plain": [
       "            C  acc_train   acc_val\n",
       "0      0.0001   0.509375  0.510000\n",
       "1      0.0010   0.791797  0.774062\n",
       "2      0.0100   0.813359  0.796250\n",
       "3      0.1000   0.843750  0.818438\n",
       "4      1.0000   0.903047  0.838125\n",
       "5     10.0000   0.981641  0.839688\n",
       "6    100.0000   0.999531  0.819375\n",
       "7   1000.0000   1.000000  0.815000\n",
       "8  10000.0000   1.000000  0.815625"
      ]
     },
     "execution_count": 38,
     "metadata": {},
     "output_type": "execute_result"
    }
   ],
   "source": [
    "C_values = [0.0001, 0.001, 0.01, 0.1, 1, 10, 100, 1000, 10000]\n",
    "acc_train_values = []\n",
    "acc_val_values = []\n",
    "\n",
    "for C in C_values:\n",
    "    model = LogisticRegression(C=C, random_state=0)\n",
    "    acc_train, acc_val = evaluate_model(model, x_train, y_train, x_val, y_val)\n",
    "    acc_train_values.append(acc_train)\n",
    "    acc_val_values.append(acc_val)\n",
    "\n",
    "results = pd.DataFrame({\n",
    "    'C': C_values,\n",
    "    'acc_train': acc_train_values,\n",
    "    'acc_val': acc_val_values\n",
    "})\n",
    "\n",
    "results"
   ]
  },
  {
   "cell_type": "code",
   "execution_count": 39,
   "id": "57031c53",
   "metadata": {},
   "outputs": [
    {
     "data": {
      "image/png": "[encoded data removed]",
      "text/plain": [
       "<Figure size 1200x800 with 1 Axes>"
      ]
     },
     "metadata": {},
     "output_type": "display_data"
    }
   ],
   "source": [
    "results.plot.bar(x='C', y=['acc_train', 'acc_val'], figsize=(12, 8))\n",
    "plt.yticks(np.arange(0.0, 1.1, 0.1))\n",
    "plt.grid(axis='y')\n",
    "plt.show()"
   ]
  },
  {
   "cell_type": "markdown",
   "id": "12b9f5e6",
   "metadata": {},
   "source": [
    "# Logistic Regression Model"
   ]
  },
  {
   "cell_type": "code",
   "execution_count": 40,
   "id": "090cacdf",
   "metadata": {},
   "outputs": [
    {
     "name": "stdout",
     "output_type": "stream",
     "text": [
      "0.903046875 0.838125\n"
     ]
    }
   ],
   "source": [
    "model = LogisticRegression(C=1.0, random_state=0)\n",
    "acc_train1,acc_val1=evaluate_model(model, x_train, y_train, x_val, y_val)\n",
    "print(acc_train1,acc_val1)"
   ]
  },
  {
   "cell_type": "code",
   "execution_count": 41,
   "id": "6ee75617",
   "metadata": {},
   "outputs": [
    {
     "data": {
      "image/png": "[encoded data removed]",
      "text/plain": [
       "<Figure size 640x480 with 2 Axes>"
      ]
     },
     "metadata": {},
     "output_type": "display_data"
    },
    {
     "data": {
      "text/plain": [
       "array([[1359,  251],\n",
       "       [ 267, 1323]], dtype=int64)"
      ]
     },
     "execution_count": 41,
     "metadata": {},
     "output_type": "execute_result"
    }
   ],
   "source": [
    "plot_conf_matrix(model, x_val, y_val)"
   ]
  },
  {
   "cell_type": "markdown",
   "id": "8d033380",
   "metadata": {},
   "source": [
    "# Hyper-parameter tuning (n_neighbors)"
   ]
  },
  {
   "cell_type": "code",
   "execution_count": 42,
   "id": "a1c1867b",
   "metadata": {},
   "outputs": [
    {
     "data": {
      "text/html": [
       "<div>\n",
       "<style scoped>\n",
       "    .dataframe tbody tr th:only-of-type {\n",
       "        vertical-align: middle;\n",
       "    }\n",
       "\n",
       "    .dataframe tbody tr th {\n",
       "        vertical-align: top;\n",
       "    }\n",
       "\n",
       "    .dataframe thead th {\n",
       "        text-align: right;\n",
       "    }\n",
       "</style>\n",
       "<table border=\"1\" class=\"dataframe\">\n",
       "  <thead>\n",
       "    <tr style=\"text-align: right;\">\n",
       "      <th></th>\n",
       "      <th>n_neighbors</th>\n",
       "      <th>acc_train</th>\n",
       "      <th>acc_val</th>\n",
       "    </tr>\n",
       "  </thead>\n",
       "  <tbody>\n",
       "    <tr>\n",
       "      <th>0</th>\n",
       "      <td>1</td>\n",
       "      <td>1.000000</td>\n",
       "      <td>0.609375</td>\n",
       "    </tr>\n",
       "    <tr>\n",
       "      <th>1</th>\n",
       "      <td>2</td>\n",
       "      <td>0.813906</td>\n",
       "      <td>0.591562</td>\n",
       "    </tr>\n",
       "    <tr>\n",
       "      <th>2</th>\n",
       "      <td>3</td>\n",
       "      <td>0.825469</td>\n",
       "      <td>0.627188</td>\n",
       "    </tr>\n",
       "    <tr>\n",
       "      <th>3</th>\n",
       "      <td>4</td>\n",
       "      <td>0.780547</td>\n",
       "      <td>0.631250</td>\n",
       "    </tr>\n",
       "    <tr>\n",
       "      <th>4</th>\n",
       "      <td>5</td>\n",
       "      <td>0.789922</td>\n",
       "      <td>0.645938</td>\n",
       "    </tr>\n",
       "    <tr>\n",
       "      <th>5</th>\n",
       "      <td>6</td>\n",
       "      <td>0.773359</td>\n",
       "      <td>0.662188</td>\n",
       "    </tr>\n",
       "    <tr>\n",
       "      <th>6</th>\n",
       "      <td>7</td>\n",
       "      <td>0.778750</td>\n",
       "      <td>0.663750</td>\n",
       "    </tr>\n",
       "    <tr>\n",
       "      <th>7</th>\n",
       "      <td>8</td>\n",
       "      <td>0.769687</td>\n",
       "      <td>0.673125</td>\n",
       "    </tr>\n",
       "    <tr>\n",
       "      <th>8</th>\n",
       "      <td>9</td>\n",
       "      <td>0.767188</td>\n",
       "      <td>0.677188</td>\n",
       "    </tr>\n",
       "    <tr>\n",
       "      <th>9</th>\n",
       "      <td>10</td>\n",
       "      <td>0.767344</td>\n",
       "      <td>0.687187</td>\n",
       "    </tr>\n",
       "    <tr>\n",
       "      <th>10</th>\n",
       "      <td>11</td>\n",
       "      <td>0.763203</td>\n",
       "      <td>0.689063</td>\n",
       "    </tr>\n",
       "    <tr>\n",
       "      <th>11</th>\n",
       "      <td>12</td>\n",
       "      <td>0.761172</td>\n",
       "      <td>0.697812</td>\n",
       "    </tr>\n",
       "    <tr>\n",
       "      <th>12</th>\n",
       "      <td>13</td>\n",
       "      <td>0.760625</td>\n",
       "      <td>0.693125</td>\n",
       "    </tr>\n",
       "    <tr>\n",
       "      <th>13</th>\n",
       "      <td>14</td>\n",
       "      <td>0.759219</td>\n",
       "      <td>0.695312</td>\n",
       "    </tr>\n",
       "    <tr>\n",
       "      <th>14</th>\n",
       "      <td>15</td>\n",
       "      <td>0.763359</td>\n",
       "      <td>0.701875</td>\n",
       "    </tr>\n",
       "    <tr>\n",
       "      <th>15</th>\n",
       "      <td>16</td>\n",
       "      <td>0.765391</td>\n",
       "      <td>0.704063</td>\n",
       "    </tr>\n",
       "    <tr>\n",
       "      <th>16</th>\n",
       "      <td>17</td>\n",
       "      <td>0.764062</td>\n",
       "      <td>0.702187</td>\n",
       "    </tr>\n",
       "    <tr>\n",
       "      <th>17</th>\n",
       "      <td>18</td>\n",
       "      <td>0.766563</td>\n",
       "      <td>0.708438</td>\n",
       "    </tr>\n",
       "    <tr>\n",
       "      <th>18</th>\n",
       "      <td>19</td>\n",
       "      <td>0.763359</td>\n",
       "      <td>0.705000</td>\n",
       "    </tr>\n",
       "    <tr>\n",
       "      <th>19</th>\n",
       "      <td>20</td>\n",
       "      <td>0.763359</td>\n",
       "      <td>0.715625</td>\n",
       "    </tr>\n",
       "    <tr>\n",
       "      <th>20</th>\n",
       "      <td>21</td>\n",
       "      <td>0.761719</td>\n",
       "      <td>0.718125</td>\n",
       "    </tr>\n",
       "    <tr>\n",
       "      <th>21</th>\n",
       "      <td>22</td>\n",
       "      <td>0.764297</td>\n",
       "      <td>0.725625</td>\n",
       "    </tr>\n",
       "    <tr>\n",
       "      <th>22</th>\n",
       "      <td>23</td>\n",
       "      <td>0.762969</td>\n",
       "      <td>0.715000</td>\n",
       "    </tr>\n",
       "    <tr>\n",
       "      <th>23</th>\n",
       "      <td>24</td>\n",
       "      <td>0.761406</td>\n",
       "      <td>0.724688</td>\n",
       "    </tr>\n",
       "    <tr>\n",
       "      <th>24</th>\n",
       "      <td>25</td>\n",
       "      <td>0.761719</td>\n",
       "      <td>0.717812</td>\n",
       "    </tr>\n",
       "    <tr>\n",
       "      <th>25</th>\n",
       "      <td>26</td>\n",
       "      <td>0.763047</td>\n",
       "      <td>0.727812</td>\n",
       "    </tr>\n",
       "    <tr>\n",
       "      <th>26</th>\n",
       "      <td>27</td>\n",
       "      <td>0.763203</td>\n",
       "      <td>0.724375</td>\n",
       "    </tr>\n",
       "    <tr>\n",
       "      <th>27</th>\n",
       "      <td>28</td>\n",
       "      <td>0.766719</td>\n",
       "      <td>0.729688</td>\n",
       "    </tr>\n",
       "    <tr>\n",
       "      <th>28</th>\n",
       "      <td>29</td>\n",
       "      <td>0.762109</td>\n",
       "      <td>0.723750</td>\n",
       "    </tr>\n",
       "  </tbody>\n",
       "</table>\n",
       "</div>"
      ],
      "text/plain": [
       "    n_neighbors  acc_train   acc_val\n",
       "0             1   1.000000  0.609375\n",
       "1             2   0.813906  0.591562\n",
       "2             3   0.825469  0.627188\n",
       "3             4   0.780547  0.631250\n",
       "4             5   0.789922  0.645938\n",
       "5             6   0.773359  0.662188\n",
       "6             7   0.778750  0.663750\n",
       "7             8   0.769687  0.673125\n",
       "8             9   0.767188  0.677188\n",
       "9            10   0.767344  0.687187\n",
       "10           11   0.763203  0.689063\n",
       "11           12   0.761172  0.697812\n",
       "12           13   0.760625  0.693125\n",
       "13           14   0.759219  0.695312\n",
       "14           15   0.763359  0.701875\n",
       "15           16   0.765391  0.704063\n",
       "16           17   0.764062  0.702187\n",
       "17           18   0.766563  0.708438\n",
       "18           19   0.763359  0.705000\n",
       "19           20   0.763359  0.715625\n",
       "20           21   0.761719  0.718125\n",
       "21           22   0.764297  0.725625\n",
       "22           23   0.762969  0.715000\n",
       "23           24   0.761406  0.724688\n",
       "24           25   0.761719  0.717812\n",
       "25           26   0.763047  0.727812\n",
       "26           27   0.763203  0.724375\n",
       "27           28   0.766719  0.729688\n",
       "28           29   0.762109  0.723750"
      ]
     },
     "execution_count": 42,
     "metadata": {},
     "output_type": "execute_result"
    }
   ],
   "source": [
    "n_neighbors_values = list(range(1, 30))\n",
    "acc_train_values = []\n",
    "acc_val_values = []\n",
    "\n",
    "for n_neighbors in n_neighbors_values:\n",
    "    model =KNeighborsClassifier(n_neighbors=n_neighbors)\n",
    "    acc_train, acc_val = evaluate_model(model, x_train, y_train, x_val, y_val)\n",
    "    acc_train_values.append(acc_train)\n",
    "    acc_val_values.append(acc_val)\n",
    "    \n",
    "results_n_neighbors = pd.DataFrame({\n",
    "    'n_neighbors': n_neighbors_values,\n",
    "    'acc_train': acc_train_values,\n",
    "    'acc_val': acc_val_values,\n",
    "})\n",
    "\n",
    "results_n_neighbors"
   ]
  },
  {
   "cell_type": "code",
   "execution_count": 43,
   "id": "6c44454f",
   "metadata": {},
   "outputs": [
    {
     "data": {
      "image/png": "[encoded data removed]",
      "text/plain": [
       "<Figure size 640x480 with 1 Axes>"
      ]
     },
     "metadata": {},
     "output_type": "display_data"
    }
   ],
   "source": [
    "results_n_neighbors.plot(x='n_neighbors', y=['acc_train', 'acc_val'])\n",
    "plt.grid()\n",
    "plt.show()"
   ]
  },
  {
   "cell_type": "markdown",
   "id": "6d42dc57",
   "metadata": {},
   "source": [
    "# KNeighborsClassifier Model"
   ]
  },
  {
   "cell_type": "code",
   "execution_count": 44,
   "id": "6051a3ac",
   "metadata": {},
   "outputs": [
    {
     "name": "stdout",
     "output_type": "stream",
     "text": [
      "0.762109375 0.72375\n"
     ]
    }
   ],
   "source": [
    "model = KNeighborsClassifier(n_neighbors=29)\n",
    "\n",
    "acc_train2,acc_val2=evaluate_model(model, x_train, y_train, x_val, y_val)\n",
    "print(acc_train2,acc_val2)"
   ]
  },
  {
   "cell_type": "code",
   "execution_count": 45,
   "id": "24d7886e",
   "metadata": {},
   "outputs": [
    {
     "data": {
      "image/png": "[encoded data removed]",
      "text/plain": [
       "<Figure size 640x480 with 2 Axes>"
      ]
     },
     "metadata": {},
     "output_type": "display_data"
    },
    {
     "data": {
      "text/plain": [
       "array([[1114,  496],\n",
       "       [ 388, 1202]], dtype=int64)"
      ]
     },
     "execution_count": 45,
     "metadata": {},
     "output_type": "execute_result"
    }
   ],
   "source": [
    "plot_conf_matrix(model, x_val, y_val)"
   ]
  },
  {
   "cell_type": "markdown",
   "id": "4361f35d",
   "metadata": {},
   "source": [
    "# Hyper-parameter tuning (max_depth)"
   ]
  },
  {
   "cell_type": "code",
   "execution_count": 46,
   "id": "0d40eb76",
   "metadata": {},
   "outputs": [
    {
     "data": {
      "text/html": [
       "<div>\n",
       "<style scoped>\n",
       "    .dataframe tbody tr th:only-of-type {\n",
       "        vertical-align: middle;\n",
       "    }\n",
       "\n",
       "    .dataframe tbody tr th {\n",
       "        vertical-align: top;\n",
       "    }\n",
       "\n",
       "    .dataframe thead th {\n",
       "        text-align: right;\n",
       "    }\n",
       "</style>\n",
       "<table border=\"1\" class=\"dataframe\">\n",
       "  <thead>\n",
       "    <tr style=\"text-align: right;\">\n",
       "      <th></th>\n",
       "      <th>max_depth</th>\n",
       "      <th>acc_train</th>\n",
       "      <th>acc_val</th>\n",
       "    </tr>\n",
       "  </thead>\n",
       "  <tbody>\n",
       "    <tr>\n",
       "      <th>0</th>\n",
       "      <td>1</td>\n",
       "      <td>0.609766</td>\n",
       "      <td>0.605313</td>\n",
       "    </tr>\n",
       "    <tr>\n",
       "      <th>1</th>\n",
       "      <td>2</td>\n",
       "      <td>0.623203</td>\n",
       "      <td>0.616563</td>\n",
       "    </tr>\n",
       "    <tr>\n",
       "      <th>2</th>\n",
       "      <td>3</td>\n",
       "      <td>0.648125</td>\n",
       "      <td>0.643125</td>\n",
       "    </tr>\n",
       "    <tr>\n",
       "      <th>3</th>\n",
       "      <td>4</td>\n",
       "      <td>0.655469</td>\n",
       "      <td>0.645938</td>\n",
       "    </tr>\n",
       "    <tr>\n",
       "      <th>4</th>\n",
       "      <td>5</td>\n",
       "      <td>0.660156</td>\n",
       "      <td>0.645625</td>\n",
       "    </tr>\n",
       "    <tr>\n",
       "      <th>5</th>\n",
       "      <td>6</td>\n",
       "      <td>0.679766</td>\n",
       "      <td>0.663438</td>\n",
       "    </tr>\n",
       "    <tr>\n",
       "      <th>6</th>\n",
       "      <td>7</td>\n",
       "      <td>0.700547</td>\n",
       "      <td>0.671250</td>\n",
       "    </tr>\n",
       "    <tr>\n",
       "      <th>7</th>\n",
       "      <td>8</td>\n",
       "      <td>0.708125</td>\n",
       "      <td>0.676250</td>\n",
       "    </tr>\n",
       "    <tr>\n",
       "      <th>8</th>\n",
       "      <td>9</td>\n",
       "      <td>0.718203</td>\n",
       "      <td>0.683125</td>\n",
       "    </tr>\n",
       "  </tbody>\n",
       "</table>\n",
       "</div>"
      ],
      "text/plain": [
       "   max_depth  acc_train   acc_val\n",
       "0          1   0.609766  0.605313\n",
       "1          2   0.623203  0.616563\n",
       "2          3   0.648125  0.643125\n",
       "3          4   0.655469  0.645938\n",
       "4          5   0.660156  0.645625\n",
       "5          6   0.679766  0.663438\n",
       "6          7   0.700547  0.671250\n",
       "7          8   0.708125  0.676250\n",
       "8          9   0.718203  0.683125"
      ]
     },
     "execution_count": 46,
     "metadata": {},
     "output_type": "execute_result"
    }
   ],
   "source": [
    "max_depth_values = list(range(1, 10))\n",
    "acc_train_values = []\n",
    "acc_val_values = []\n",
    "\n",
    "for max_depth in max_depth_values:\n",
    "    model = DecisionTreeClassifier(max_depth=max_depth, random_state=0)\n",
    "    acc_train, acc_val = evaluate_model(model, x_train, y_train, x_val, y_val)\n",
    "    acc_train_values.append(acc_train)\n",
    "    acc_val_values.append(acc_val)\n",
    "\n",
    "results_max_depth = pd.DataFrame({\n",
    "    'max_depth': max_depth_values,\n",
    "    'acc_train': acc_train_values,\n",
    "    'acc_val': acc_val_values,\n",
    "})\n",
    "\n",
    "results_max_depth"
   ]
  },
  {
   "cell_type": "code",
   "execution_count": 47,
   "id": "162ebe4e",
   "metadata": {},
   "outputs": [
    {
     "data": {
      "image/png": "[encoded data removed]",
      "text/plain": [
       "<Figure size 640x480 with 1 Axes>"
      ]
     },
     "metadata": {},
     "output_type": "display_data"
    }
   ],
   "source": [
    "results_max_depth.plot(x='max_depth', y=['acc_train', 'acc_val'])\n",
    "plt.show()"
   ]
  },
  {
   "cell_type": "markdown",
   "id": "3580a320",
   "metadata": {},
   "source": [
    "# DecisionTreeClassifier Model"
   ]
  },
  {
   "cell_type": "code",
   "execution_count": 48,
   "id": "e5057bf8",
   "metadata": {},
   "outputs": [
    {
     "name": "stdout",
     "output_type": "stream",
     "text": [
      "0.718203125 0.683125\n"
     ]
    }
   ],
   "source": [
    "model = DecisionTreeClassifier(max_depth=9, random_state=0)\n",
    "acc_train3,acc_val3=evaluate_model(model, x_train, y_train, x_val, y_val)\n",
    "print(acc_train3,acc_val3)"
   ]
  },
  {
   "cell_type": "code",
   "execution_count": 49,
   "id": "2a476289",
   "metadata": {},
   "outputs": [
    {
     "data": {
      "image/png": "[encoded data removed]",
      "text/plain": [
       "<Figure size 640x480 with 2 Axes>"
      ]
     },
     "metadata": {},
     "output_type": "display_data"
    },
    {
     "data": {
      "text/plain": [
       "array([[1358,  252],\n",
       "       [ 762,  828]], dtype=int64)"
      ]
     },
     "execution_count": 49,
     "metadata": {},
     "output_type": "execute_result"
    }
   ],
   "source": [
    "plot_conf_matrix(model, x_val, y_val)"
   ]
  },
  {
   "cell_type": "markdown",
   "id": "a8b12c7b",
   "metadata": {},
   "source": [
    "# SVC Model"
   ]
  },
  {
   "cell_type": "code",
   "execution_count": 50,
   "id": "f8ec5274",
   "metadata": {},
   "outputs": [
    {
     "name": "stdout",
     "output_type": "stream",
     "text": [
      "0.988828125 0.8425\n"
     ]
    }
   ],
   "source": [
    "model = SVC()\n",
    "acc_train4,acc_val4=evaluate_model(model, x_train, y_train, x_val, y_val)\n",
    "print(acc_train4,acc_val4)"
   ]
  },
  {
   "cell_type": "code",
   "execution_count": 51,
   "id": "807d52dd",
   "metadata": {},
   "outputs": [
    {
     "data": {
      "image/png": "[encoded data removed]",
      "text/plain": [
       "<Figure size 640x480 with 2 Axes>"
      ]
     },
     "metadata": {},
     "output_type": "display_data"
    },
    {
     "data": {
      "text/plain": [
       "array([[1367,  243],\n",
       "       [ 261, 1329]], dtype=int64)"
      ]
     },
     "execution_count": 51,
     "metadata": {},
     "output_type": "execute_result"
    }
   ],
   "source": [
    "plot_conf_matrix(model, x_val, y_val)"
   ]
  },
  {
   "cell_type": "markdown",
   "id": "f6014d14",
   "metadata": {},
   "source": [
    "# Hyper-parameter tuning (n_estimators,max_depth)"
   ]
  },
  {
   "cell_type": "code",
   "execution_count": 52,
   "id": "456955cb",
   "metadata": {},
   "outputs": [
    {
     "data": {
      "text/plain": [
       "{'max_depth': 7, 'n_estimators': 500}"
      ]
     },
     "execution_count": 52,
     "metadata": {},
     "output_type": "execute_result"
    }
   ],
   "source": [
    "rf=RandomForestClassifier()\n",
    "param_grid = {\n",
    "    'n_estimators' : [10, 50, 100, 200, 300, 400, 500],\n",
    "    'max_depth' : [1, 2, 3, 4, 5, 6, 7, 8, 9],\n",
    "}\n",
    "\n",
    "grid_search = GridSearchCV(rf, param_grid, cv=5,return_train_score=True)\n",
    "grid_search.fit(x_train,y_train)\n",
    "grid_search.best_params_"
   ]
  },
  {
   "cell_type": "markdown",
   "id": "20654748",
   "metadata": {},
   "source": [
    "# RandomForestClassifier Model"
   ]
  },
  {
   "cell_type": "code",
   "execution_count": 53,
   "id": "1eb0cb22",
   "metadata": {},
   "outputs": [
    {
     "name": "stdout",
     "output_type": "stream",
     "text": [
      "0.846640625 0.801875\n"
     ]
    }
   ],
   "source": [
    "model = RandomForestClassifier(n_estimators=500, max_depth=7, random_state=0)\n",
    "acc_train5,acc_val5=evaluate_model(model, x_train, y_train, x_val, y_val)\n",
    "print(acc_train5,acc_val5)"
   ]
  },
  {
   "cell_type": "code",
   "execution_count": 54,
   "id": "9b54462a",
   "metadata": {},
   "outputs": [
    {
     "data": {
      "image/png": "[encoded data removed]",
      "text/plain": [
       "<Figure size 640x480 with 2 Axes>"
      ]
     },
     "metadata": {},
     "output_type": "display_data"
    },
    {
     "data": {
      "text/plain": [
       "array([[1258,  352],\n",
       "       [ 282, 1308]], dtype=int64)"
      ]
     },
     "execution_count": 54,
     "metadata": {},
     "output_type": "execute_result"
    }
   ],
   "source": [
    "plot_conf_matrix(model, x_val, y_val)"
   ]
  },
  {
   "cell_type": "markdown",
   "id": "74885f8e",
   "metadata": {},
   "source": [
    "# XGBClassifier Model"
   ]
  },
  {
   "cell_type": "code",
   "execution_count": 55,
   "id": "9aa62e59",
   "metadata": {},
   "outputs": [
    {
     "name": "stdout",
     "output_type": "stream",
     "text": [
      "0.933203125 0.8115625\n"
     ]
    }
   ],
   "source": [
    "model = XGBClassifier()\n",
    "acc_train6,acc_val6=evaluate_model(model, x_train, y_train, x_val, y_val)\n",
    "print(acc_train6,acc_val6)"
   ]
  },
  {
   "cell_type": "code",
   "execution_count": 56,
   "id": "93f30d0a",
   "metadata": {},
   "outputs": [
    {
     "data": {
      "image/png": "[encoded data removed]",
      "text/plain": [
       "<Figure size 640x480 with 2 Axes>"
      ]
     },
     "metadata": {},
     "output_type": "display_data"
    },
    {
     "data": {
      "text/plain": [
       "array([[1318,  292],\n",
       "       [ 311, 1279]], dtype=int64)"
      ]
     },
     "execution_count": 56,
     "metadata": {},
     "output_type": "execute_result"
    }
   ],
   "source": [
    "plot_conf_matrix(model, x_val, y_val)"
   ]
  },
  {
   "cell_type": "markdown",
   "id": "0706fcb5",
   "metadata": {},
   "source": [
    "# Models"
   ]
  },
  {
   "cell_type": "code",
   "execution_count": 60,
   "id": "30d5ee65",
   "metadata": {},
   "outputs": [
    {
     "data": {
      "image/png": "[encoded data removed]",
      "text/plain": [
       "<Figure size 1000x500 with 1 Axes>"
      ]
     },
     "metadata": {},
     "output_type": "display_data"
    }
   ],
   "source": [
    "models = ['Logistic Regression','KNN','DecisionTree','SVM','RandomForest','XGBClassifier']\n",
    "acc_train_values=[acc_train1,acc_train2,acc_train3,acc_train4,acc_train5,acc_train6]\n",
    "acc_val_values=[acc_val1,acc_val2,acc_val3,acc_val4,acc_val5,acc_val6]\n",
    "\n",
    "results = pd.DataFrame({\n",
    "    'models': models,\n",
    "    'acc_train': acc_train_values,\n",
    "    'acc_val': acc_val_values,\n",
    "})\n",
    "\n",
    "results.plot(x='models', y=['acc_train', 'acc_val'],kind='bar',figsize=(10,5))\n",
    "plt.grid(axis='both')\n",
    "plt.show()"
   ]
  },
  {
   "cell_type": "code",
   "execution_count": null,
   "id": "d9788085",
   "metadata": {},
   "outputs": [],
   "source": []
  }
 ],
 "metadata": {
  "kernelspec": {
   "display_name": "Python 3 (ipykernel)",
   "language": "python",
   "name": "python3"
  },
  "language_info": {
   "codemirror_mode": {
    "name": "ipython",
    "version": 3
   },
   "file_extension": ".py",
   "mimetype": "text/x-python",
   "name": "python",
   "nbconvert_exporter": "python",
   "pygments_lexer": "ipython3",
   "version": "3.9.16"
  }
 },
 "nbformat": 4,
 "nbformat_minor": 5
}
